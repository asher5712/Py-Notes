{
 "cells": [
  {
   "cell_type": "markdown",
   "id": "36400ab1",
   "metadata": {},
   "source": [
    "# Modules"
   ]
  },
  {
   "cell_type": "markdown",
   "id": "c0b64967",
   "metadata": {},
   "source": [
    "## Random\n",
    "\n",
    "Random is the library for generating random values"
   ]
  },
  {
   "cell_type": "code",
   "execution_count": null,
   "id": "ceb1a1b4",
   "metadata": {},
   "outputs": [],
   "source": [
    "import random"
   ]
  },
  {
   "cell_type": "code",
   "execution_count": null,
   "id": "c6f10e32",
   "metadata": {},
   "outputs": [],
   "source": [
    "random.random()"
   ]
  },
  {
   "cell_type": "code",
   "execution_count": null,
   "id": "d8da07b7",
   "metadata": {},
   "outputs": [],
   "source": [
    "random.randint(1,10)"
   ]
  },
  {
   "cell_type": "code",
   "execution_count": null,
   "id": "19709116",
   "metadata": {},
   "outputs": [],
   "source": [
    "random.randrange(10)"
   ]
  },
  {
   "cell_type": "code",
   "execution_count": null,
   "id": "ca121a49",
   "metadata": {},
   "outputs": [],
   "source": [
    "random.randrange(1,100)"
   ]
  },
  {
   "cell_type": "code",
   "execution_count": null,
   "id": "16d9e911",
   "metadata": {},
   "outputs": [],
   "source": [
    "random.randrange(0,100,2)"
   ]
  },
  {
   "cell_type": "code",
   "execution_count": null,
   "id": "27080ad8",
   "metadata": {},
   "outputs": [],
   "source": [
    "lst = ['Apple','Banana','Melon','Kiwi','Strawberry','Orange']\n",
    "random.choice(lst)"
   ]
  },
  {
   "cell_type": "code",
   "execution_count": null,
   "id": "61795d2b",
   "metadata": {},
   "outputs": [],
   "source": [
    "random.choices(lst,k=2)"
   ]
  },
  {
   "cell_type": "code",
   "execution_count": null,
   "id": "95761f6c",
   "metadata": {},
   "outputs": [],
   "source": [
    "random.sample(lst,k=3)"
   ]
  },
  {
   "cell_type": "markdown",
   "id": "d2b63878",
   "metadata": {},
   "source": [
    "### Assignment Activity\n",
    "\n",
    "**Write the program for rock paper scissor game?**"
   ]
  },
  {
   "cell_type": "markdown",
   "id": "b4cdffc6",
   "metadata": {},
   "source": [
    "## OS\n",
    "\n",
    "OS is the library for operating system access"
   ]
  },
  {
   "cell_type": "code",
   "execution_count": null,
   "id": "1e9b5af4",
   "metadata": {},
   "outputs": [],
   "source": [
    "import os"
   ]
  },
  {
   "cell_type": "code",
   "execution_count": null,
   "id": "8357336e",
   "metadata": {
    "scrolled": true
   },
   "outputs": [],
   "source": [
    "os.getcwd()"
   ]
  },
  {
   "cell_type": "code",
   "execution_count": null,
   "id": "e7b35c71",
   "metadata": {},
   "outputs": [],
   "source": [
    "os.makedirs('Folder')"
   ]
  },
  {
   "cell_type": "code",
   "execution_count": null,
   "id": "889c4f60",
   "metadata": {},
   "outputs": [],
   "source": [
    "os.chdir('./Folder')"
   ]
  },
  {
   "cell_type": "code",
   "execution_count": null,
   "id": "3a7e2ab8",
   "metadata": {},
   "outputs": [],
   "source": [
    "os.getcwd()"
   ]
  },
  {
   "cell_type": "code",
   "execution_count": null,
   "id": "e8f5d19b",
   "metadata": {},
   "outputs": [],
   "source": [
    "os.makedirs('Folder')"
   ]
  },
  {
   "cell_type": "code",
   "execution_count": null,
   "id": "ca75b8a8",
   "metadata": {},
   "outputs": [],
   "source": [
    "os.makedirs('Folder',exist_ok=True)"
   ]
  },
  {
   "cell_type": "code",
   "execution_count": null,
   "id": "e80e9d0e",
   "metadata": {},
   "outputs": [],
   "source": [
    "os.listdir()"
   ]
  },
  {
   "cell_type": "code",
   "execution_count": null,
   "id": "3cc7f75b",
   "metadata": {},
   "outputs": [],
   "source": [
    "os.renames('Folder','Filder')"
   ]
  },
  {
   "cell_type": "code",
   "execution_count": null,
   "id": "3d8de588",
   "metadata": {},
   "outputs": [],
   "source": [
    "os.listdir()"
   ]
  },
  {
   "cell_type": "code",
   "execution_count": null,
   "id": "89841604",
   "metadata": {},
   "outputs": [],
   "source": [
    "os.removedirs('Filder')"
   ]
  },
  {
   "cell_type": "code",
   "execution_count": null,
   "id": "8b877d75",
   "metadata": {},
   "outputs": [],
   "source": [
    "os.chdir('..')"
   ]
  },
  {
   "cell_type": "code",
   "execution_count": null,
   "id": "d449f7e1",
   "metadata": {},
   "outputs": [],
   "source": [
    "os.getcwd()"
   ]
  },
  {
   "cell_type": "code",
   "execution_count": null,
   "id": "95029913",
   "metadata": {},
   "outputs": [],
   "source": [
    "os.removedirs('Folder')"
   ]
  },
  {
   "cell_type": "code",
   "execution_count": null,
   "id": "c070553f",
   "metadata": {},
   "outputs": [],
   "source": [
    "# os.remove(filepath)"
   ]
  },
  {
   "cell_type": "markdown",
   "id": "23caba4b",
   "metadata": {},
   "source": [
    "#### Activity\n",
    "\n",
    "*Write code to list all items in 'Downloads' and save them in a file?*"
   ]
  },
  {
   "cell_type": "code",
   "execution_count": null,
   "id": "3076e3e9",
   "metadata": {},
   "outputs": [],
   "source": [
    "# Solution\n",
    "\n"
   ]
  },
  {
   "cell_type": "markdown",
   "id": "0a8baf7e",
   "metadata": {},
   "source": [
    "## Math\n",
    "\n",
    "Math is the library for math related stuff."
   ]
  },
  {
   "cell_type": "code",
   "execution_count": null,
   "id": "a48f9fd6",
   "metadata": {},
   "outputs": [],
   "source": [
    "import math"
   ]
  },
  {
   "cell_type": "code",
   "execution_count": null,
   "id": "185e144c",
   "metadata": {},
   "outputs": [],
   "source": [
    "math.pi"
   ]
  },
  {
   "cell_type": "code",
   "execution_count": null,
   "id": "b589caf0",
   "metadata": {},
   "outputs": [],
   "source": [
    "math.factorial(5)\n",
    "\n",
    "# n!\n",
    "# 5!\n",
    "# 5*4*3*2*1\n",
    "# 20*6\n",
    "# 120"
   ]
  },
  {
   "cell_type": "code",
   "execution_count": null,
   "id": "97172c25",
   "metadata": {},
   "outputs": [],
   "source": [
    "math.perm(5,3)\n",
    "\n",
    "# n!/(n-r)!\n",
    "# 5!/(5-3)!\n",
    "# 120/2\n",
    "# 60"
   ]
  },
  {
   "cell_type": "code",
   "execution_count": null,
   "id": "8b73b348",
   "metadata": {},
   "outputs": [],
   "source": [
    "math.comb(5,2)\n",
    "\n",
    "# n!/(n-r)!r!\n",
    "# 5!/(5-2)!2!\n",
    "# 120/(6*2)\n",
    "# 120/12\n",
    "# 10"
   ]
  },
  {
   "cell_type": "code",
   "execution_count": null,
   "id": "ab5d2d46",
   "metadata": {},
   "outputs": [],
   "source": [
    "math.lcm(6,14,12)\n",
    "\n",
    "# 6  -> 2*3\n",
    "# 12 -> 2*2*3\n",
    "# 14 -> 2*7\n",
    "# 2*3*2*7\n",
    "# 6*2*7\n",
    "# 12*7\n",
    "# 84"
   ]
  },
  {
   "cell_type": "code",
   "execution_count": null,
   "id": "5d99e470",
   "metadata": {},
   "outputs": [],
   "source": [
    "math.gcd(84,12,68)\n",
    "\n",
    "# 84 -> 2,2,3,7\n",
    "# 12 -> 2,2,3\n",
    "# 68 -> 2,2,17\n",
    "# 2*2\n",
    "# 4"
   ]
  },
  {
   "cell_type": "code",
   "execution_count": null,
   "id": "2966a710",
   "metadata": {},
   "outputs": [],
   "source": [
    "# 90 degree --> x rads\n",
    "\n",
    "math.radians(90)\n",
    "\n",
    "# x(PI/180)\n",
    "# 90*3.142/180"
   ]
  },
  {
   "cell_type": "code",
   "execution_count": null,
   "id": "7a50b3ed",
   "metadata": {},
   "outputs": [],
   "source": [
    "# 90 rads --> x degree\n",
    "\n",
    "math.degrees(3.141592653589793)\n",
    "\n",
    "# x(180/PI)"
   ]
  },
  {
   "cell_type": "code",
   "execution_count": null,
   "id": "a84bec2f",
   "metadata": {},
   "outputs": [],
   "source": [
    "# 90 degree\n",
    "math.sin(1.5707963267948966)"
   ]
  },
  {
   "cell_type": "code",
   "execution_count": null,
   "id": "ee6d4b78",
   "metadata": {},
   "outputs": [],
   "source": [
    "# 180 degree\n",
    "math.cos(3.141592653589793)"
   ]
  },
  {
   "cell_type": "code",
   "execution_count": null,
   "id": "67562718",
   "metadata": {},
   "outputs": [],
   "source": [
    "# 0 degree\n",
    "math.tan(0)"
   ]
  },
  {
   "cell_type": "code",
   "execution_count": null,
   "id": "031b7d56",
   "metadata": {},
   "outputs": [],
   "source": [
    "math.cbrt(27)\n",
    "\n",
    "# 3*3*3\n",
    "# 3"
   ]
  },
  {
   "cell_type": "code",
   "execution_count": null,
   "id": "258de9c2",
   "metadata": {},
   "outputs": [],
   "source": [
    "math.sqrt(256)\n",
    "\n",
    "# 16*16\n",
    "# 16"
   ]
  },
  {
   "cell_type": "code",
   "execution_count": null,
   "id": "f90b387f",
   "metadata": {},
   "outputs": [],
   "source": [
    "math.dist((3,8),(7,5))\n",
    "\n",
    "# ((x2-x1)**2 + (y2-y1)**2)**0.5\n",
    "# ((3-7)**2 + (8-5)**2)**0.5\n",
    "# (4**2 + 3**2)**0.5\n",
    "# (16 + 9)**0.5\n",
    "# 25**0.5\n",
    "# 5.0"
   ]
  },
  {
   "cell_type": "code",
   "execution_count": null,
   "id": "b551cc1a",
   "metadata": {},
   "outputs": [],
   "source": [
    "math.prod([1,2,3,4,5])\n",
    "\n",
    "# 1*2*3*4*5\n",
    "# 2*3*4*5\n",
    "# 6*4*5\n",
    "# 24*5\n",
    "# 120"
   ]
  },
  {
   "cell_type": "markdown",
   "id": "6f189cbb",
   "metadata": {},
   "source": [
    "#### Activity\n",
    "*Write the program to determine probability of an event?*"
   ]
  },
  {
   "cell_type": "code",
   "execution_count": null,
   "id": "8cd61094",
   "metadata": {},
   "outputs": [],
   "source": [
    "# Solution\n",
    "\n"
   ]
  },
  {
   "cell_type": "markdown",
   "id": "2e1e8eb7",
   "metadata": {},
   "source": [
    "## DateTime\n",
    "\n",
    "Datetime is the library for using date and time "
   ]
  },
  {
   "cell_type": "code",
   "execution_count": null,
   "id": "8972c7c0",
   "metadata": {},
   "outputs": [],
   "source": [
    "import datetime as dt"
   ]
  },
  {
   "cell_type": "code",
   "execution_count": null,
   "id": "e5d06c27",
   "metadata": {},
   "outputs": [],
   "source": [
    "dto = dt.datetime.now()\n",
    "dto"
   ]
  },
  {
   "cell_type": "code",
   "execution_count": null,
   "id": "0f7fb099",
   "metadata": {},
   "outputs": [],
   "source": [
    "print(dt.datetime.now())"
   ]
  },
  {
   "cell_type": "code",
   "execution_count": null,
   "id": "f81c875c",
   "metadata": {},
   "outputs": [],
   "source": [
    "dt.date.today()"
   ]
  },
  {
   "cell_type": "code",
   "execution_count": null,
   "id": "b2b3fd0d",
   "metadata": {},
   "outputs": [],
   "source": [
    "print(dt.datetime(2020,5,10))"
   ]
  },
  {
   "cell_type": "code",
   "execution_count": null,
   "id": "678196cc",
   "metadata": {},
   "outputs": [],
   "source": [
    "print(dto.strftime('%A, %B %d, %Y %I:%M:%S.%f %p'))"
   ]
  },
  {
   "cell_type": "code",
   "execution_count": null,
   "id": "a05a4ae2",
   "metadata": {},
   "outputs": [],
   "source": [
    "print(dto.strftime('%H'))"
   ]
  },
  {
   "cell_type": "code",
   "execution_count": null,
   "id": "30856347",
   "metadata": {},
   "outputs": [],
   "source": [
    "print(dto.strftime('%W'))"
   ]
  },
  {
   "cell_type": "code",
   "execution_count": null,
   "id": "67c18549",
   "metadata": {},
   "outputs": [],
   "source": [
    "print(dto.strftime('%z'))"
   ]
  },
  {
   "cell_type": "markdown",
   "id": "acaf0a69",
   "metadata": {},
   "source": [
    "## JSON\n",
    "\n",
    "JSON is the library to handle dictionaries in files"
   ]
  },
  {
   "cell_type": "code",
   "execution_count": null,
   "id": "9e9bc659",
   "metadata": {},
   "outputs": [],
   "source": [
    "import json"
   ]
  },
  {
   "cell_type": "code",
   "execution_count": null,
   "id": "98cd06b0",
   "metadata": {},
   "outputs": [],
   "source": [
    "d = dict(\n",
    "    class1 = {'A':1,'B':2,'C':3},\n",
    "    class2 = {'A':4,'B':5,'C':6},\n",
    "    class3 = {'A':7,'B':8,'C':9},\n",
    ")"
   ]
  },
  {
   "cell_type": "code",
   "execution_count": null,
   "id": "6afd436a",
   "metadata": {},
   "outputs": [],
   "source": [
    "print(d, type(d))"
   ]
  },
  {
   "cell_type": "code",
   "execution_count": null,
   "id": "53fc53d0",
   "metadata": {},
   "outputs": [],
   "source": [
    "dump = json.dumps(d)\n",
    "\n",
    "print(dump, type(dump))"
   ]
  },
  {
   "cell_type": "code",
   "execution_count": null,
   "id": "ef7b2bd5",
   "metadata": {},
   "outputs": [],
   "source": [
    "print(json.dumps(d,indent=2))"
   ]
  },
  {
   "cell_type": "code",
   "execution_count": null,
   "id": "933739ce",
   "metadata": {},
   "outputs": [],
   "source": [
    "print(json.dumps(d,indent=2,separators=[';','::']))"
   ]
  },
  {
   "cell_type": "code",
   "execution_count": null,
   "id": "2dbc6000",
   "metadata": {},
   "outputs": [],
   "source": [
    "load = json.loads(dump)\n",
    "\n",
    "print(load, type(load))"
   ]
  },
  {
   "cell_type": "markdown",
   "id": "27c3a717",
   "metadata": {},
   "source": [
    "## Arrays\n",
    "\n",
    "Arrays is the library to define static arrays in python\n",
    "<img src=\"./OneDrive/Pictures/arrayChart.png\" alt=\"ArrayChart\" width=\"400px\"/>"
   ]
  },
  {
   "cell_type": "code",
   "execution_count": null,
   "id": "c62b10e2",
   "metadata": {},
   "outputs": [],
   "source": [
    "# !pip install array"
   ]
  },
  {
   "cell_type": "code",
   "execution_count": null,
   "id": "399f2276",
   "metadata": {},
   "outputs": [],
   "source": [
    "import array as arr"
   ]
  },
  {
   "cell_type": "code",
   "execution_count": null,
   "id": "03cdb028",
   "metadata": {},
   "outputs": [],
   "source": [
    "a = arr.array('i',[1,2,3,4])\n",
    "\n",
    "print(a, type(a))"
   ]
  },
  {
   "cell_type": "code",
   "execution_count": null,
   "id": "86093e5c",
   "metadata": {},
   "outputs": [],
   "source": [
    "b = arr.array('d',[1,3,6,5,9])\n",
    "\n",
    "print(b, type(b))"
   ]
  },
  {
   "cell_type": "code",
   "execution_count": null,
   "id": "3258ded9",
   "metadata": {},
   "outputs": [],
   "source": [
    "# arr.array('f',['A',4,7,4])"
   ]
  },
  {
   "cell_type": "code",
   "execution_count": null,
   "id": "20be67b2",
   "metadata": {},
   "outputs": [],
   "source": [
    "c = arr.array('u',['A','B','C','1','7'])\n",
    "\n",
    "print(c, type(c))"
   ]
  },
  {
   "cell_type": "code",
   "execution_count": null,
   "id": "1c26f79a",
   "metadata": {},
   "outputs": [],
   "source": [
    "# arr.array('u',['A','B','C',1,7])"
   ]
  },
  {
   "cell_type": "markdown",
   "id": "21f29613",
   "metadata": {},
   "source": [
    "### BuiltIn"
   ]
  },
  {
   "cell_type": "code",
   "execution_count": null,
   "id": "a2426fc7",
   "metadata": {},
   "outputs": [],
   "source": [
    "a.append(9)\n",
    "\n",
    "print(a)"
   ]
  },
  {
   "cell_type": "code",
   "execution_count": null,
   "id": "304202aa",
   "metadata": {},
   "outputs": [],
   "source": [
    "a.tolist()"
   ]
  },
  {
   "cell_type": "code",
   "execution_count": null,
   "id": "0830a34f",
   "metadata": {},
   "outputs": [],
   "source": [
    "a.pop()"
   ]
  },
  {
   "cell_type": "code",
   "execution_count": null,
   "id": "c9ce3f7c",
   "metadata": {},
   "outputs": [],
   "source": [
    "a.remove(2)\n",
    "\n",
    "print(a)"
   ]
  },
  {
   "cell_type": "markdown",
   "id": "556f789e",
   "metadata": {},
   "source": [
    "## Calendar\n",
    "\n",
    "Calendar module is used to deal with calendar dates"
   ]
  },
  {
   "cell_type": "code",
   "execution_count": null,
   "id": "acf2448d",
   "metadata": {},
   "outputs": [],
   "source": [
    "import calendar as cal"
   ]
  },
  {
   "cell_type": "code",
   "execution_count": null,
   "id": "2eb2640c",
   "metadata": {},
   "outputs": [],
   "source": [
    "cal.isleap(2020)"
   ]
  },
  {
   "cell_type": "code",
   "execution_count": null,
   "id": "3321dcf9",
   "metadata": {},
   "outputs": [],
   "source": [
    "print(cal.calendar(2022))"
   ]
  },
  {
   "cell_type": "code",
   "execution_count": null,
   "id": "bf684fc1",
   "metadata": {},
   "outputs": [],
   "source": [
    "print(cal.month(2022, 12))"
   ]
  },
  {
   "cell_type": "code",
   "execution_count": null,
   "id": "39c442a0",
   "metadata": {},
   "outputs": [],
   "source": [
    "cal.monthrange(2023,12)"
   ]
  },
  {
   "cell_type": "code",
   "execution_count": null,
   "id": "1de2df70",
   "metadata": {},
   "outputs": [],
   "source": [
    "cal.weekday(2022,12,27)\n",
    "\n",
    "# Mon -> 0\n",
    "# Tue -> 1\n",
    "# Wed -> 2\n",
    "# Thr -> 3\n",
    "# Fri -> 4\n",
    "# Sat -> 5\n",
    "# Sun -> 6"
   ]
  },
  {
   "cell_type": "markdown",
   "id": "b08aac61",
   "metadata": {},
   "source": [
    "## Requests\n",
    "\n",
    "Request is library for web scraping"
   ]
  },
  {
   "cell_type": "code",
   "execution_count": null,
   "id": "582fffc2",
   "metadata": {},
   "outputs": [],
   "source": [
    "# !pip install requests"
   ]
  },
  {
   "cell_type": "code",
   "execution_count": null,
   "id": "7d75a881",
   "metadata": {},
   "outputs": [],
   "source": [
    "import requests"
   ]
  },
  {
   "cell_type": "code",
   "execution_count": null,
   "id": "986c8165",
   "metadata": {},
   "outputs": [],
   "source": [
    "r = requests.get('https://api.datamuse.com/words?rel_rhy=funny')\n",
    "\n",
    "print(r, type(r))"
   ]
  },
  {
   "cell_type": "code",
   "execution_count": null,
   "id": "e026e303",
   "metadata": {},
   "outputs": [],
   "source": [
    "print(r.text)"
   ]
  },
  {
   "cell_type": "code",
   "execution_count": null,
   "id": "cbc1ee8c",
   "metadata": {},
   "outputs": [],
   "source": [
    "print(r.url)"
   ]
  },
  {
   "cell_type": "code",
   "execution_count": null,
   "id": "8c891436",
   "metadata": {},
   "outputs": [],
   "source": [
    "res = r.json()\n",
    "\n",
    "print(res,type(res))"
   ]
  },
  {
   "cell_type": "code",
   "execution_count": null,
   "id": "a0843581",
   "metadata": {},
   "outputs": [],
   "source": [
    "res[0]"
   ]
  },
  {
   "cell_type": "code",
   "execution_count": null,
   "id": "ce4f4cc6",
   "metadata": {},
   "outputs": [],
   "source": [
    "type(res[0])"
   ]
  },
  {
   "cell_type": "code",
   "execution_count": null,
   "id": "8a10d3c4",
   "metadata": {},
   "outputs": [],
   "source": [
    "r = requests.get('https://api.datamuse.com/words',params={'rel_rhy':'funny'})\n",
    "\n",
    "print(r,type(r))"
   ]
  },
  {
   "cell_type": "code",
   "execution_count": null,
   "id": "b2feb893",
   "metadata": {},
   "outputs": [],
   "source": [
    "r.url"
   ]
  },
  {
   "cell_type": "code",
   "execution_count": null,
   "id": "76d5d105",
   "metadata": {},
   "outputs": [],
   "source": [
    "qu = requests.get('https://google.com/search',params={'q':'voilin and guitar','tbm':'isch'})\n",
    "\n",
    "print(qu,type(qu))"
   ]
  },
  {
   "cell_type": "code",
   "execution_count": null,
   "id": "b2bcce85",
   "metadata": {},
   "outputs": [],
   "source": [
    "qu.url"
   ]
  },
  {
   "cell_type": "code",
   "execution_count": null,
   "id": "0cbb7373",
   "metadata": {},
   "outputs": [],
   "source": [
    "qu.text"
   ]
  },
  {
   "cell_type": "code",
   "execution_count": null,
   "id": "67189f1d",
   "metadata": {},
   "outputs": [],
   "source": [
    "req = requests.request('get','https://api.datamuse.com/words?rel_rhy=funny')\n",
    "\n",
    "print(req,type(req))"
   ]
  },
  {
   "cell_type": "code",
   "execution_count": null,
   "id": "d55cf026",
   "metadata": {},
   "outputs": [],
   "source": [
    "req.url"
   ]
  },
  {
   "cell_type": "code",
   "execution_count": null,
   "id": "9a6af087",
   "metadata": {},
   "outputs": [],
   "source": [
    "req.text"
   ]
  },
  {
   "cell_type": "markdown",
   "id": "8acf0c33",
   "metadata": {},
   "source": [
    "## RegEx\n",
    "\n",
    "Regex is the library for dealing with regular expressions"
   ]
  },
  {
   "cell_type": "code",
   "execution_count": null,
   "id": "b24acdb8",
   "metadata": {},
   "outputs": [],
   "source": [
    "import re"
   ]
  },
  {
   "cell_type": "code",
   "execution_count": null,
   "id": "143ccc02",
   "metadata": {},
   "outputs": [],
   "source": [
    "match = re.match('\\d\\d-(S|s)(E|e)-\\d\\d','19-SE-02')\n",
    "\n",
    "print(match,type(match))"
   ]
  },
  {
   "cell_type": "code",
   "execution_count": null,
   "id": "cc4f9ed6",
   "metadata": {},
   "outputs": [],
   "source": [
    "match.string"
   ]
  },
  {
   "cell_type": "code",
   "execution_count": null,
   "id": "58633e38",
   "metadata": {},
   "outputs": [],
   "source": [
    "match.group()"
   ]
  },
  {
   "cell_type": "code",
   "execution_count": null,
   "id": "d268c1ea",
   "metadata": {},
   "outputs": [],
   "source": [
    "it = re.finditer('\\d\\d-(S|s)(E|e)-\\d\\d','My registration number is 19-Se-02 and 19-se-03')\n",
    "\n",
    "print(it,type(it))"
   ]
  },
  {
   "cell_type": "code",
   "execution_count": null,
   "id": "dfb4824b",
   "metadata": {},
   "outputs": [],
   "source": [
    "list(it)"
   ]
  },
  {
   "cell_type": "code",
   "execution_count": null,
   "id": "49dca6cd",
   "metadata": {},
   "outputs": [],
   "source": [
    "re.findall('\\d\\d','My registration number is 19-Se-02')"
   ]
  },
  {
   "cell_type": "code",
   "execution_count": null,
   "id": "1ce84a3e",
   "metadata": {},
   "outputs": [],
   "source": [
    "re.search('\\d\\d','My registration number is 19-Se-02')"
   ]
  },
  {
   "cell_type": "markdown",
   "id": "e7e14355",
   "metadata": {},
   "source": [
    "### RegEx Pattern"
   ]
  },
  {
   "cell_type": "markdown",
   "id": "f2fd8416",
   "metadata": {},
   "source": [
    "***.* represents period** *(single character)*  \n",
    "***^* represents caret** *(starting)*  \n",
    "***\\$* represents dollar** *(ending)*  \n",
    "***\\** represents star** *(zero or more)*  \n",
    "***+* represents plus** *(one or more)*  \n",
    "***?* represents question** *(zero or one)*  \n",
    "***()* represents group** *(separate substring)*  \n",
    "***|* represents alteration** *(or)*  \n",
    "***\\{\\}* represents braces** *(n:least,m:most)*  \n",
    "***\\\\* represents backslash** *(escape sequence)*  \n"
   ]
  },
  {
   "cell_type": "code",
   "execution_count": null,
   "id": "e24d96b3",
   "metadata": {},
   "outputs": [],
   "source": []
  },
  {
   "cell_type": "markdown",
   "id": "7363be14",
   "metadata": {},
   "source": [
    "***\\d* represents digits.** *(0-9)*  \n",
    "***\\s* represents whitespace.** *\\n,\\t,\\r,\\f*  \n",
    "***\\b* represents start or end of word.** *fo -> the foot*  \n",
    "***\\w* represents alphanumeric character** *(0-9,a-z,A-Z,_)*  \n",
    "***\\A* represents start of string.** *fo -> for*  \n",
    "***\\Z* represents end of string.** *or -> for*  \n",
    "***\\B* represents not at start or end of word.** *oo -> the foot*  \n",
    "***\\D* represents non-digits.** *(A-Z,a-z,SpecChars)*  \n",
    "***\\S* represents non-whitespace.** *(0-9,A-Z,a-z,SpecChars)*  \n",
    "***\\W* represents non-alphanumeric.** *(SpecChars,WhiteSpace)*  \n"
   ]
  },
  {
   "cell_type": "code",
   "execution_count": null,
   "id": "83faf690",
   "metadata": {},
   "outputs": [],
   "source": [
    "pattern = 'https:\\/\\/www.youtube.com\\/(playlist|watch)\\?(v|list)=\\w+(&list=\\w+)?'"
   ]
  },
  {
   "cell_type": "code",
   "execution_count": null,
   "id": "2c9e53a2",
   "metadata": {},
   "outputs": [],
   "source": [
    "re.fullmatch(pattern,'https://www.youtube.com/watch?v=xZQr2ycg7Hs')"
   ]
  },
  {
   "cell_type": "code",
   "execution_count": null,
   "id": "74e1a913",
   "metadata": {},
   "outputs": [],
   "source": [
    "re.fullmatch(pattern,'https://www.youtube.com/playlist?list=PL50E4BEA381EAFFC1')"
   ]
  },
  {
   "cell_type": "code",
   "execution_count": null,
   "id": "4168a623",
   "metadata": {},
   "outputs": [],
   "source": [
    "re.match(pattern,'https://www.youtube.com/watch?v=xZQr2ycg7Hs&list=PL50E4BEA381EAFFC1')"
   ]
  },
  {
   "cell_type": "markdown",
   "id": "9de0da18",
   "metadata": {},
   "source": [
    "#### Activity\n",
    "*Dailymotion video pattern*"
   ]
  },
  {
   "cell_type": "code",
   "execution_count": null,
   "id": "6af40ae0",
   "metadata": {},
   "outputs": [],
   "source": [
    "# Solution\n"
   ]
  },
  {
   "cell_type": "markdown",
   "id": "76ecfd68",
   "metadata": {},
   "source": [
    "## Turtle\n",
    "\n",
    "Turtle is the library for drawing objects"
   ]
  },
  {
   "cell_type": "code",
   "execution_count": null,
   "id": "97540e6c",
   "metadata": {},
   "outputs": [],
   "source": [
    "import turtle"
   ]
  },
  {
   "cell_type": "code",
   "execution_count": null,
   "id": "4c3ae504",
   "metadata": {},
   "outputs": [],
   "source": [
    "s = turtle.Screen()\n",
    "s.exitonclick()"
   ]
  },
  {
   "cell_type": "code",
   "execution_count": null,
   "id": "33860d70",
   "metadata": {},
   "outputs": [],
   "source": [
    "s = turtle.Screen()\n",
    "s.bgcolor('red')\n",
    "s.exitonclick()"
   ]
  },
  {
   "cell_type": "code",
   "execution_count": null,
   "id": "b684a583",
   "metadata": {},
   "outputs": [],
   "source": [
    "wn = turtle.Screen()\n",
    "\n",
    "t = turtle.Turtle(shape='turtle')\n",
    "\n",
    "wn.exitonclick()"
   ]
  },
  {
   "cell_type": "code",
   "execution_count": null,
   "id": "deb3a261",
   "metadata": {},
   "outputs": [],
   "source": [
    "wn = turtle.Screen()\n",
    "wn.title('Diagram')\n",
    "wn.bgcolor('orange')\n",
    "\n",
    "t = turtle.Turtle()\n",
    "t.forward(50)\n",
    "t.right(90)\n",
    "t.forward(50)\n",
    "t.left(90)\n",
    "t.backward(50)\n",
    "t.left(90)\n",
    "t.forward(50)\n",
    "\n",
    "wn.exitonclick()"
   ]
  },
  {
   "cell_type": "code",
   "execution_count": null,
   "id": "2fc56f8f",
   "metadata": {},
   "outputs": [],
   "source": [
    "wn = turtle.Screen()\n",
    "wn.title('Diagram')\n",
    "wn.bgcolor('orange')\n",
    "\n",
    "t = turtle.Turtle()\n",
    "t.goto(60,60)\n",
    "t.home()\n",
    "t.circle(60)\n",
    "\n",
    "wn.exitonclick()"
   ]
  },
  {
   "cell_type": "code",
   "execution_count": null,
   "id": "0fea753d",
   "metadata": {},
   "outputs": [],
   "source": [
    "wn = turtle.Screen()\n",
    "wn.title('Diagram')\n",
    "wn.bgcolor('orange')\n",
    "\n",
    "t = turtle.Turtle()\n",
    "t.pencolor('green')\n",
    "t.pensize(5)\n",
    "t.stamp()\n",
    "t.fd(50)\n",
    "t.stamp()\n",
    "t.fd(50)\n",
    "\n",
    "wn.exitonclick()"
   ]
  },
  {
   "cell_type": "code",
   "execution_count": null,
   "id": "75a5f10b",
   "metadata": {},
   "outputs": [],
   "source": [
    "wn = turtle.Screen()\n",
    "wn.title('Diagram')\n",
    "\n",
    "t = turtle.Turtle()\n",
    "t.shape('turtle')\n",
    "t.begin_fill()\n",
    "t.fd(100)\n",
    "t.lt(120)\n",
    "t.fd(100)\n",
    "t.speed(5)\n",
    "t.lt(120)\n",
    "t.fd(100)\n",
    "t.end_fill()\n",
    "\n",
    "wn.exitonclick()"
   ]
  },
  {
   "cell_type": "code",
   "execution_count": null,
   "id": "bb775d4a",
   "metadata": {},
   "outputs": [],
   "source": [
    "wn = turtle.Screen()\n",
    "wn.title('Diagram')\n",
    "\n",
    "t = turtle.Turtle()\n",
    "t.shape('circle')\n",
    "t.fd(100)\n",
    "t.rt(90)\n",
    "t.penup()\n",
    "t.fd(100)\n",
    "t.rt(90)\n",
    "t.pendown()\n",
    "t.fd(100)\n",
    "t.rt(90)\n",
    "t.penup()\n",
    "t.fd(100)\n",
    "t.pendown()\n",
    "\n",
    "wn.exitonclick()"
   ]
  },
  {
   "cell_type": "markdown",
   "id": "22014d1b",
   "metadata": {},
   "source": [
    "<h1 style=\"font-size:100px; text-align:center;\">Thank You</h1>"
   ]
  }
 ],
 "metadata": {
  "kernelspec": {
   "display_name": "Python 3 (ipykernel)",
   "language": "python",
   "name": "python3"
  },
  "language_info": {
   "codemirror_mode": {
    "name": "ipython",
    "version": 3
   },
   "file_extension": ".py",
   "mimetype": "text/x-python",
   "name": "python",
   "nbconvert_exporter": "python",
   "pygments_lexer": "ipython3",
   "version": "3.11.1"
  },
  "vscode": {
   "interpreter": {
    "hash": "b56823d3876598670abc3c928caf922b2cd543b5f48e0e8d37838563168168a5"
   }
  }
 },
 "nbformat": 4,
 "nbformat_minor": 5
}
