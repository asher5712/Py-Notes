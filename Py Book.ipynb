{
 "cells": [
  {
   "cell_type": "markdown",
   "id": "3eedc4ba",
   "metadata": {},
   "source": [
    "# Python Syntax\n",
    "\n",
    "The syntax of python is highly dependant on indentation."
   ]
  },
  {
   "cell_type": "code",
   "execution_count": null,
   "id": "a89303cc",
   "metadata": {},
   "outputs": [],
   "source": [
    "if __name__ == '__main__':\n",
    "    print('Hello World!')"
   ]
  },
  {
   "cell_type": "markdown",
   "id": "2dab142f",
   "metadata": {},
   "source": [
    "# Datatypes\n",
    "\n",
    "Datatypes denotes the format of data to be entered or hold"
   ]
  },
  {
   "cell_type": "markdown",
   "id": "e617b63d",
   "metadata": {},
   "source": [
    "## Primary"
   ]
  },
  {
   "cell_type": "code",
   "execution_count": null,
   "id": "0153119a",
   "metadata": {},
   "outputs": [],
   "source": [
    "print('ABC',type('ABC'))"
   ]
  },
  {
   "cell_type": "code",
   "execution_count": null,
   "id": "70efa6a6",
   "metadata": {},
   "outputs": [],
   "source": [
    "print(123,type(123))"
   ]
  },
  {
   "cell_type": "code",
   "execution_count": null,
   "id": "f844ad19",
   "metadata": {},
   "outputs": [],
   "source": [
    "print(12.12,type(12.12))"
   ]
  },
  {
   "cell_type": "code",
   "execution_count": null,
   "id": "b30d08f7",
   "metadata": {},
   "outputs": [],
   "source": [
    "print(True,type(True))"
   ]
  },
  {
   "cell_type": "code",
   "execution_count": null,
   "id": "9b2f29e5",
   "metadata": {},
   "outputs": [],
   "source": [
    "print(12+18j,type(12+18j))"
   ]
  },
  {
   "cell_type": "code",
   "execution_count": null,
   "id": "e1b7211b",
   "metadata": {},
   "outputs": [],
   "source": [
    "print(5j,type(5j))"
   ]
  },
  {
   "cell_type": "markdown",
   "id": "d21b9f4d",
   "metadata": {},
   "source": [
    "## Structural"
   ]
  },
  {
   "cell_type": "code",
   "execution_count": null,
   "id": "3c3e5bee",
   "metadata": {},
   "outputs": [],
   "source": [
    "print([1,2,3,4], type([1,2,3,4]))"
   ]
  },
  {
   "cell_type": "code",
   "execution_count": null,
   "id": "c808d5ef",
   "metadata": {},
   "outputs": [],
   "source": [
    "print((1,2,3,4), type((1,2,3,4)))"
   ]
  },
  {
   "cell_type": "code",
   "execution_count": null,
   "id": "1c00de36",
   "metadata": {},
   "outputs": [],
   "source": [
    "print({1,2,3,4}, type({1,2,3,4}))"
   ]
  },
  {
   "cell_type": "code",
   "execution_count": null,
   "id": "c88a5826",
   "metadata": {},
   "outputs": [],
   "source": [
    "print(frozenset({1,2,3,4}), type(frozenset({1,2,3,4})))"
   ]
  },
  {
   "cell_type": "code",
   "execution_count": null,
   "id": "542da0a0",
   "metadata": {},
   "outputs": [],
   "source": [
    "print({'A':1,'B':2,'C':3,'D':4}, type({'A':1,'B':2,'C':3,'D':4}))"
   ]
  },
  {
   "cell_type": "markdown",
   "id": "a8aaabfe",
   "metadata": {},
   "source": [
    "# Operators\n",
    "\n",
    "Operators are symbols to perform certain actions"
   ]
  },
  {
   "cell_type": "markdown",
   "id": "8054d920",
   "metadata": {},
   "source": [
    "## Arithmetic Operators"
   ]
  },
  {
   "cell_type": "code",
   "execution_count": null,
   "id": "c96d30cc",
   "metadata": {},
   "outputs": [],
   "source": [
    "# Plus\n",
    "\n",
    "5 + 3"
   ]
  },
  {
   "cell_type": "code",
   "execution_count": null,
   "id": "9e7e2cca",
   "metadata": {},
   "outputs": [],
   "source": [
    "# Minus\n",
    "\n",
    "5 - 3"
   ]
  },
  {
   "cell_type": "code",
   "execution_count": null,
   "id": "34073560",
   "metadata": {},
   "outputs": [],
   "source": [
    "# Times\n",
    "\n",
    "5 * 3"
   ]
  },
  {
   "cell_type": "code",
   "execution_count": null,
   "id": "143a37b1",
   "metadata": {},
   "outputs": [],
   "source": [
    "# Obelus\n",
    "\n",
    "5 / 3"
   ]
  },
  {
   "cell_type": "code",
   "execution_count": null,
   "id": "107950fc",
   "metadata": {},
   "outputs": [],
   "source": [
    "# Exponent\n",
    "\n",
    "5 ** 3"
   ]
  },
  {
   "cell_type": "code",
   "execution_count": null,
   "id": "8c824294",
   "metadata": {},
   "outputs": [],
   "source": [
    "# Fdiv\n",
    "\n",
    "5 // 3"
   ]
  },
  {
   "cell_type": "markdown",
   "id": "79c7c71f",
   "metadata": {},
   "source": [
    "## Bitwise Operator"
   ]
  },
  {
   "cell_type": "code",
   "execution_count": null,
   "id": "61422954",
   "metadata": {},
   "outputs": [],
   "source": [
    "# Bitwise OR\n",
    "\n",
    "2 | 3\n",
    "\n",
    "#      0010\n",
    "# or   0011\n",
    "#\n",
    "#      0011"
   ]
  },
  {
   "cell_type": "code",
   "execution_count": null,
   "id": "66e41861",
   "metadata": {},
   "outputs": [],
   "source": [
    "# Bitwise AND\n",
    "\n",
    "2 & 3\n",
    "\n",
    "#      0010\n",
    "# and  0011\n",
    "#\n",
    "#      0010"
   ]
  },
  {
   "cell_type": "code",
   "execution_count": null,
   "id": "35e79c02",
   "metadata": {},
   "outputs": [],
   "source": [
    "# Bitwise NOT\n",
    "\n",
    "~ 2\n",
    "\n",
    "# not  10\n",
    "\n",
    "#      01\n",
    "# +     1\n",
    "\n",
    "#      11 (will have negative sign)"
   ]
  },
  {
   "cell_type": "code",
   "execution_count": null,
   "id": "d573045c",
   "metadata": {},
   "outputs": [],
   "source": [
    "# Bitwise XOR\n",
    "\n",
    "2 ^ 3\n",
    "\n",
    "#      0010\n",
    "# xor  0011\n",
    "#\n",
    "#      0001 (same == false)"
   ]
  },
  {
   "cell_type": "markdown",
   "id": "4c14e006",
   "metadata": {},
   "source": [
    "## Unary Operators"
   ]
  },
  {
   "cell_type": "code",
   "execution_count": null,
   "id": "5282bdd2",
   "metadata": {},
   "outputs": [],
   "source": [
    "- 2"
   ]
  },
  {
   "cell_type": "code",
   "execution_count": null,
   "id": "1eed6d1e",
   "metadata": {},
   "outputs": [],
   "source": [
    "+ 2"
   ]
  },
  {
   "cell_type": "markdown",
   "id": "75ff2225",
   "metadata": {},
   "source": [
    "## Logical Operators"
   ]
  },
  {
   "cell_type": "code",
   "execution_count": null,
   "id": "41fb8e56",
   "metadata": {},
   "outputs": [],
   "source": [
    "# Logical AND\n",
    "\n",
    "(2>3) and (2<3)\n",
    "\n",
    "# false and true"
   ]
  },
  {
   "cell_type": "code",
   "execution_count": null,
   "id": "0a511015",
   "metadata": {},
   "outputs": [],
   "source": [
    "# Logical OR\n",
    "\n",
    "(2>3) or (2<3)\n",
    "\n",
    "# false or true"
   ]
  },
  {
   "cell_type": "code",
   "execution_count": null,
   "id": "2eacf240",
   "metadata": {},
   "outputs": [],
   "source": [
    "# Logical NOT\n",
    "\n",
    "not (2>3)\n",
    "\n",
    "# not false"
   ]
  },
  {
   "cell_type": "markdown",
   "id": "2c681fa3",
   "metadata": {},
   "source": [
    "## Relational Operators"
   ]
  },
  {
   "cell_type": "code",
   "execution_count": null,
   "id": "6799ebe7",
   "metadata": {},
   "outputs": [],
   "source": [
    "# Greater Than\n",
    "\n",
    "2 > 5"
   ]
  },
  {
   "cell_type": "code",
   "execution_count": null,
   "id": "9bddd78d",
   "metadata": {},
   "outputs": [],
   "source": [
    "# Less Than\n",
    "\n",
    "2 < 5"
   ]
  },
  {
   "cell_type": "code",
   "execution_count": null,
   "id": "a8be2151",
   "metadata": {},
   "outputs": [],
   "source": [
    "# Greater Than and Equal to\n",
    "\n",
    "2 >= 5"
   ]
  },
  {
   "cell_type": "code",
   "execution_count": null,
   "id": "6b1f43de",
   "metadata": {},
   "outputs": [],
   "source": [
    "# Less Than and Equal to\n",
    "\n",
    "2 <= 5"
   ]
  },
  {
   "cell_type": "code",
   "execution_count": null,
   "id": "507765f0",
   "metadata": {},
   "outputs": [],
   "source": [
    "# Equality\n",
    "\n",
    "2 == 5"
   ]
  },
  {
   "cell_type": "code",
   "execution_count": null,
   "id": "27c79454",
   "metadata": {},
   "outputs": [],
   "source": [
    "# Non-equality\n",
    "\n",
    "2 != 5"
   ]
  },
  {
   "cell_type": "markdown",
   "id": "3660ad04",
   "metadata": {},
   "source": [
    "## Assignment Operators"
   ]
  },
  {
   "cell_type": "code",
   "execution_count": null,
   "id": "87c243a7",
   "metadata": {},
   "outputs": [],
   "source": [
    "# Assignment\n",
    "\n",
    "a = 5\n",
    "a"
   ]
  },
  {
   "cell_type": "code",
   "execution_count": null,
   "id": "a24eb2a0",
   "metadata": {},
   "outputs": [],
   "source": [
    "# Plus Assignment\n",
    "\n",
    "a += 5\n",
    "a\n",
    "\n",
    "# a=a+5\n",
    "# a=5+5\n",
    "# a=10"
   ]
  },
  {
   "cell_type": "code",
   "execution_count": null,
   "id": "19e85bfc",
   "metadata": {},
   "outputs": [],
   "source": [
    "# Minus Assignment\n",
    "\n",
    "a -= 5\n",
    "a\n",
    "\n",
    "# a=a-5\n",
    "# a=10-5\n",
    "# a=5"
   ]
  },
  {
   "cell_type": "code",
   "execution_count": null,
   "id": "5dbf856a",
   "metadata": {},
   "outputs": [],
   "source": [
    "# Times Assignment\n",
    "\n",
    "a *= 5\n",
    "a\n",
    "\n",
    "# a=a*5\n",
    "# a=5*5\n",
    "# a=25"
   ]
  },
  {
   "cell_type": "code",
   "execution_count": null,
   "id": "dd26b3b3",
   "metadata": {},
   "outputs": [],
   "source": [
    "# Div Assignment\n",
    "\n",
    "a /= 5\n",
    "a\n",
    "\n",
    "# a=a/5\n",
    "# a=25/5\n",
    "# a=5.0"
   ]
  },
  {
   "cell_type": "code",
   "execution_count": null,
   "id": "62ca9e70",
   "metadata": {},
   "outputs": [],
   "source": [
    "# Exponential Assignment\n",
    "\n",
    "a **= 2\n",
    "a\n",
    "\n",
    "# a=a**2\n",
    "# a=5.0**2\n",
    "# a=25.0"
   ]
  },
  {
   "cell_type": "code",
   "execution_count": null,
   "id": "b4270f05",
   "metadata": {},
   "outputs": [],
   "source": [
    "# FDiv Assignment\n",
    "\n",
    "a //= 2\n",
    "a\n",
    "\n",
    "# a=a//2\n",
    "# a=25.0//2\n",
    "# a=12.0"
   ]
  },
  {
   "cell_type": "markdown",
   "id": "671c26e6",
   "metadata": {},
   "source": [
    "## Identity Operator"
   ]
  },
  {
   "cell_type": "code",
   "execution_count": null,
   "id": "0411847a",
   "metadata": {},
   "outputs": [],
   "source": [
    "a = [1,2,3,4,5]\n",
    "\n",
    "a"
   ]
  },
  {
   "cell_type": "code",
   "execution_count": null,
   "id": "f087384b",
   "metadata": {},
   "outputs": [],
   "source": [
    "a is [1,2,3,4,5]"
   ]
  },
  {
   "cell_type": "code",
   "execution_count": null,
   "id": "2ca86509",
   "metadata": {},
   "outputs": [],
   "source": [
    "b = a"
   ]
  },
  {
   "cell_type": "code",
   "execution_count": null,
   "id": "7532fce9",
   "metadata": {},
   "outputs": [],
   "source": [
    "a is b"
   ]
  },
  {
   "cell_type": "markdown",
   "id": "4bef992a",
   "metadata": {},
   "source": [
    "## Membership Operator"
   ]
  },
  {
   "cell_type": "code",
   "execution_count": null,
   "id": "71f5071a",
   "metadata": {},
   "outputs": [],
   "source": [
    "2 in [1,2,3,4,5]"
   ]
  },
  {
   "cell_type": "code",
   "execution_count": null,
   "id": "f67593d8",
   "metadata": {},
   "outputs": [],
   "source": [
    "6 in [1,2,3,4,5]"
   ]
  },
  {
   "cell_type": "markdown",
   "id": "e87aa335",
   "metadata": {},
   "source": [
    "## Operator Precedence\n",
    "\n",
    "Operators Precedence is the sequence in execution of operators"
   ]
  },
  {
   "cell_type": "code",
   "execution_count": null,
   "id": "01ba8f55",
   "metadata": {},
   "outputs": [],
   "source": [
    "2+2*2-(2-1)/2**2//2\n",
    "\n",
    "# 2+2*2-1/2**2//2\n",
    "# 2+2*2-1/4//2\n",
    "# 2+4-0.25//2\n",
    "# 2+4-0.0\n",
    "# 6-0.0\n",
    "# 6.0"
   ]
  },
  {
   "cell_type": "markdown",
   "id": "9a87f060",
   "metadata": {},
   "source": [
    "# Errors\n",
    "\n",
    "Errors are bugs or problems in code"
   ]
  },
  {
   "cell_type": "markdown",
   "id": "e99e33e5",
   "metadata": {},
   "source": [
    "## Syntax Errors"
   ]
  },
  {
   "cell_type": "code",
   "execution_count": null,
   "id": "8241140a",
   "metadata": {},
   "outputs": [],
   "source": [
    "alpha"
   ]
  },
  {
   "cell_type": "code",
   "execution_count": null,
   "id": "6534dc25",
   "metadata": {},
   "outputs": [],
   "source": [
    "if i in 5"
   ]
  },
  {
   "cell_type": "markdown",
   "id": "2782ab6e",
   "metadata": {},
   "source": [
    "## Runtime Errors"
   ]
  },
  {
   "cell_type": "code",
   "execution_count": null,
   "id": "1aef8246",
   "metadata": {},
   "outputs": [],
   "source": [
    "2/0"
   ]
  },
  {
   "cell_type": "code",
   "execution_count": null,
   "id": "3d4606bd",
   "metadata": {},
   "outputs": [],
   "source": [
    "a = [1,2,3,4]\n",
    "a"
   ]
  },
  {
   "cell_type": "code",
   "execution_count": null,
   "id": "87757f60",
   "metadata": {},
   "outputs": [],
   "source": [
    "a[4]"
   ]
  },
  {
   "cell_type": "markdown",
   "id": "1e6d0c8f",
   "metadata": {},
   "source": [
    "## Logical Error"
   ]
  },
  {
   "cell_type": "code",
   "execution_count": null,
   "id": "6b7e04f9",
   "metadata": {},
   "outputs": [],
   "source": [
    "length = 5\n",
    "width = 3\n",
    "\n",
    "area = length // width\n",
    "\n",
    "area"
   ]
  },
  {
   "cell_type": "markdown",
   "id": "c80c0ab7",
   "metadata": {},
   "source": [
    "# Variables\n",
    "\n",
    "Variables are containers that hold the data"
   ]
  },
  {
   "cell_type": "markdown",
   "id": "e1ab09ff",
   "metadata": {},
   "source": [
    "## Keywords"
   ]
  },
  {
   "cell_type": "code",
   "execution_count": null,
   "id": "c9e3845a",
   "metadata": {},
   "outputs": [],
   "source": [
    "global x"
   ]
  },
  {
   "cell_type": "code",
   "execution_count": null,
   "id": "0bab922e",
   "metadata": {},
   "outputs": [],
   "source": [
    "if True:\n",
    "    pass"
   ]
  },
  {
   "cell_type": "code",
   "execution_count": null,
   "id": "a9f52c6e",
   "metadata": {},
   "outputs": [],
   "source": [
    "lambda x:-x"
   ]
  },
  {
   "cell_type": "code",
   "execution_count": null,
   "id": "6273674d",
   "metadata": {},
   "outputs": [],
   "source": [
    "# elif\n",
    "# for\n",
    "# while\n",
    "# break\n",
    "# continue\n",
    "# def\n",
    "# import\n"
   ]
  },
  {
   "cell_type": "markdown",
   "id": "3ea3ee65",
   "metadata": {},
   "source": [
    "## Identifiers"
   ]
  },
  {
   "cell_type": "code",
   "execution_count": null,
   "id": "78f27b22",
   "metadata": {},
   "outputs": [],
   "source": [
    "alp = 123\n",
    "alp"
   ]
  },
  {
   "cell_type": "code",
   "execution_count": null,
   "id": "d3141978",
   "metadata": {},
   "outputs": [],
   "source": [
    "bet = True\n",
    "bet"
   ]
  },
  {
   "cell_type": "markdown",
   "id": "f573088e",
   "metadata": {},
   "source": [
    "## Rules for Naming Variables"
   ]
  },
  {
   "cell_type": "code",
   "execution_count": null,
   "id": "de544e39",
   "metadata": {},
   "outputs": [],
   "source": [
    "# Can start with underscore\n",
    "\n",
    "_as = 13\n",
    "_as"
   ]
  },
  {
   "cell_type": "code",
   "execution_count": null,
   "id": "210b96a2",
   "metadata": {},
   "outputs": [],
   "source": [
    "# Can start with alphabet\n",
    "\n",
    "er = 12j"
   ]
  },
  {
   "cell_type": "code",
   "execution_count": null,
   "id": "79bd60fb",
   "metadata": {},
   "outputs": [],
   "source": [
    "# Cannot Sart with Digit\n",
    "\n",
    "12t = 12"
   ]
  },
  {
   "cell_type": "code",
   "execution_count": null,
   "id": "35127d8d",
   "metadata": {},
   "outputs": [],
   "source": [
    "# Case sensitive\n",
    "\n",
    "A = 5\n",
    "A"
   ]
  },
  {
   "cell_type": "code",
   "execution_count": null,
   "id": "1c1e2b11",
   "metadata": {},
   "outputs": [],
   "source": [
    "a = 3\n",
    "a"
   ]
  },
  {
   "cell_type": "code",
   "execution_count": null,
   "id": "8c402d04",
   "metadata": {},
   "outputs": [],
   "source": [
    "A == a"
   ]
  },
  {
   "cell_type": "markdown",
   "id": "0c3c3e91",
   "metadata": {},
   "source": [
    "## Updating Variables"
   ]
  },
  {
   "cell_type": "code",
   "execution_count": null,
   "id": "856cf5ef",
   "metadata": {},
   "outputs": [],
   "source": [
    "a = 1\n",
    "\n",
    "print(a,type(a))"
   ]
  },
  {
   "cell_type": "code",
   "execution_count": null,
   "id": "0e074a85",
   "metadata": {},
   "outputs": [],
   "source": [
    "a = 'String'\n",
    "\n",
    "print(a,type(a))"
   ]
  },
  {
   "cell_type": "code",
   "execution_count": null,
   "id": "2f42b39d",
   "metadata": {},
   "outputs": [],
   "source": [
    "a = 54.45\n",
    "\n",
    "print(a,type(a))"
   ]
  },
  {
   "cell_type": "code",
   "execution_count": null,
   "id": "02d1fc98",
   "metadata": {},
   "outputs": [],
   "source": [
    "a = True\n",
    "\n",
    "print(a,type(a))"
   ]
  },
  {
   "cell_type": "code",
   "execution_count": null,
   "id": "0c286612",
   "metadata": {},
   "outputs": [],
   "source": [
    "a = 12j\n",
    "\n",
    "print(a,type(a))"
   ]
  },
  {
   "cell_type": "code",
   "execution_count": null,
   "id": "1cda00c5",
   "metadata": {},
   "outputs": [],
   "source": [
    "print(a)"
   ]
  },
  {
   "cell_type": "markdown",
   "id": "cb019a0e",
   "metadata": {},
   "source": [
    "### Examples"
   ]
  },
  {
   "cell_type": "code",
   "execution_count": null,
   "id": "80891f1a",
   "metadata": {},
   "outputs": [],
   "source": [
    "# Lets guess\n",
    "\n",
    "# a=1\n",
    "# a+=1\n",
    "# a*=100\n",
    "# a**=2\n",
    "# a//=5\n",
    "# print(a)"
   ]
  },
  {
   "cell_type": "code",
   "execution_count": null,
   "id": "aad4bb09",
   "metadata": {},
   "outputs": [],
   "source": [
    "# Solution\n",
    "\n",
    "a=1\n",
    "a+=1\n",
    "a*=100\n",
    "a**=2\n",
    "a//=5\n",
    "print(a)"
   ]
  },
  {
   "cell_type": "code",
   "execution_count": null,
   "id": "be1887e0",
   "metadata": {},
   "outputs": [],
   "source": [
    "# Lets guess\n",
    "\n",
    "# a=True\n",
    "# a=15j\n",
    "# a=15.0\n",
    "# a=False\n",
    "# a=50.0\n",
    "# a/=5\n",
    "# print(a)\n",
    "# a='ANS'\n",
    "# print(a)"
   ]
  },
  {
   "cell_type": "code",
   "execution_count": null,
   "id": "fc5560a2",
   "metadata": {},
   "outputs": [],
   "source": [
    "# Solution\n",
    "\n",
    "a=True\n",
    "a=15j\n",
    "a=15.0\n",
    "a=False\n",
    "a=50.0\n",
    "a/=5\n",
    "print(a)\n",
    "a='ANS'\n",
    "print(a)"
   ]
  },
  {
   "cell_type": "markdown",
   "id": "a6c63694",
   "metadata": {},
   "source": [
    "## Hardcode vs Softcode"
   ]
  },
  {
   "cell_type": "code",
   "execution_count": null,
   "id": "6367afbc",
   "metadata": {},
   "outputs": [],
   "source": [
    "length = 6\n",
    "width = 3\n",
    "\n",
    "area = 18\n",
    "\n",
    "print('Length: ',length)\n",
    "print('Width: ',width)\n",
    "print('Area: ',area)"
   ]
  },
  {
   "cell_type": "code",
   "execution_count": null,
   "id": "74895505",
   "metadata": {},
   "outputs": [],
   "source": [
    "length = 6\n",
    "width = 3\n",
    "\n",
    "area = length * width\n",
    "\n",
    "print('Length: ',length)\n",
    "print('Width: ',width)\n",
    "print('Area: ',area)"
   ]
  },
  {
   "cell_type": "markdown",
   "id": "b04fd86e",
   "metadata": {},
   "source": [
    "## Constants\n",
    "\n",
    "Containers having fixed or permanent values\n",
    "\n",
    "***No constants in PYTHON***"
   ]
  },
  {
   "cell_type": "markdown",
   "id": "35c6f5e9",
   "metadata": {},
   "source": [
    "## Statement vs Expression\n",
    "\n",
    "Expression is small executable part but statement is single expression or bunch of expressions"
   ]
  },
  {
   "cell_type": "code",
   "execution_count": null,
   "id": "74993e75",
   "metadata": {},
   "outputs": [],
   "source": [
    "a=3\n",
    "b=2\n",
    "\n",
    "c = (a+b)-((a*a)+(b*b))\n",
    "\n",
    "# Here (a+b), (a*a), (b*b) could be expressions but statement is complete line"
   ]
  },
  {
   "cell_type": "markdown",
   "id": "d3d424da",
   "metadata": {},
   "source": [
    "## User Input"
   ]
  },
  {
   "cell_type": "code",
   "execution_count": null,
   "id": "13a164f4",
   "metadata": {},
   "outputs": [],
   "source": [
    "a = input()"
   ]
  },
  {
   "cell_type": "code",
   "execution_count": null,
   "id": "ff56dff4",
   "metadata": {},
   "outputs": [],
   "source": [
    "print(a, type(a))"
   ]
  },
  {
   "cell_type": "code",
   "execution_count": null,
   "id": "8e17ba75",
   "metadata": {},
   "outputs": [],
   "source": [
    "a = input(\"Enter any number: \")"
   ]
  },
  {
   "cell_type": "code",
   "execution_count": null,
   "id": "fbf22efe",
   "metadata": {},
   "outputs": [],
   "source": [
    "print(a, type(a))"
   ]
  },
  {
   "cell_type": "markdown",
   "id": "86360a7d",
   "metadata": {},
   "source": [
    "# Type Conversion\n",
    "\n",
    "Converting one datatype to other datatype"
   ]
  },
  {
   "cell_type": "code",
   "execution_count": null,
   "id": "c43d6ac0",
   "metadata": {},
   "outputs": [],
   "source": [
    "a = '123'\n",
    "\n",
    "int(a)\n",
    "\n",
    "print(a,type(a))"
   ]
  },
  {
   "cell_type": "code",
   "execution_count": null,
   "id": "8f25eabe",
   "metadata": {
    "scrolled": true
   },
   "outputs": [],
   "source": [
    "a = int(a)\n",
    "\n",
    "print(a,type(a))"
   ]
  },
  {
   "cell_type": "code",
   "execution_count": null,
   "id": "66bea9e7",
   "metadata": {},
   "outputs": [],
   "source": [
    "# Possible Flows\n",
    "\n",
    "# str -> int\n",
    "# str -> float\n",
    "# float -> int\n",
    "# ALL -> bool\n",
    "# ALL -> str"
   ]
  },
  {
   "cell_type": "markdown",
   "id": "804448a9",
   "metadata": {},
   "source": [
    "## Conversion Constructors\n",
    "\n",
    "Builtin functions to convert datatypes"
   ]
  },
  {
   "cell_type": "code",
   "execution_count": null,
   "id": "96f9ee1c",
   "metadata": {},
   "outputs": [],
   "source": [
    "str()"
   ]
  },
  {
   "cell_type": "code",
   "execution_count": null,
   "id": "75e45e46",
   "metadata": {},
   "outputs": [],
   "source": [
    "int()"
   ]
  },
  {
   "cell_type": "code",
   "execution_count": null,
   "id": "8c7e2000",
   "metadata": {},
   "outputs": [],
   "source": [
    "float()"
   ]
  },
  {
   "cell_type": "code",
   "execution_count": null,
   "id": "8ead6e6b",
   "metadata": {},
   "outputs": [],
   "source": [
    "complex()"
   ]
  },
  {
   "cell_type": "code",
   "execution_count": null,
   "id": "12d3be39",
   "metadata": {},
   "outputs": [],
   "source": [
    "bool()"
   ]
  },
  {
   "cell_type": "code",
   "execution_count": null,
   "id": "8a5a549b",
   "metadata": {},
   "outputs": [],
   "source": [
    "list()"
   ]
  },
  {
   "cell_type": "code",
   "execution_count": null,
   "id": "52b35ed6",
   "metadata": {},
   "outputs": [],
   "source": [
    "tuple()"
   ]
  },
  {
   "cell_type": "code",
   "execution_count": null,
   "id": "afbac34c",
   "metadata": {},
   "outputs": [],
   "source": [
    "dict()"
   ]
  },
  {
   "cell_type": "code",
   "execution_count": null,
   "id": "9822ae19",
   "metadata": {},
   "outputs": [],
   "source": [
    "set()"
   ]
  },
  {
   "cell_type": "code",
   "execution_count": null,
   "id": "0dfa4821",
   "metadata": {},
   "outputs": [],
   "source": [
    "frozenset()"
   ]
  },
  {
   "cell_type": "markdown",
   "id": "c5ee1277",
   "metadata": {},
   "source": [
    "# Basic Datatypes"
   ]
  },
  {
   "cell_type": "markdown",
   "id": "f7f488b9",
   "metadata": {},
   "source": [
    "## Number\n",
    "Number are the collection of digits. It is numeric based datatype."
   ]
  },
  {
   "cell_type": "markdown",
   "id": "581a06de",
   "metadata": {},
   "source": [
    "### Floats"
   ]
  },
  {
   "cell_type": "code",
   "execution_count": null,
   "id": "37b1939c",
   "metadata": {},
   "outputs": [],
   "source": [
    "f = float(12)"
   ]
  },
  {
   "cell_type": "code",
   "execution_count": null,
   "id": "bdee1f7a",
   "metadata": {},
   "outputs": [],
   "source": [
    "print(f,type(f))"
   ]
  },
  {
   "cell_type": "code",
   "execution_count": null,
   "id": "ded39ef3",
   "metadata": {},
   "outputs": [],
   "source": [
    "f2 = 5.0 / 5"
   ]
  },
  {
   "cell_type": "code",
   "execution_count": null,
   "id": "a2e886d1",
   "metadata": {},
   "outputs": [],
   "source": [
    "print(f2,type(f2))"
   ]
  },
  {
   "cell_type": "code",
   "execution_count": null,
   "id": "597b47b3",
   "metadata": {},
   "outputs": [],
   "source": [
    "f.real"
   ]
  },
  {
   "cell_type": "code",
   "execution_count": null,
   "id": "53ec5ef7",
   "metadata": {},
   "outputs": [],
   "source": [
    "f.imag"
   ]
  },
  {
   "cell_type": "code",
   "execution_count": null,
   "id": "2c7fb613",
   "metadata": {},
   "outputs": [],
   "source": [
    "float.conjugate(f)"
   ]
  },
  {
   "cell_type": "code",
   "execution_count": null,
   "id": "27a06257",
   "metadata": {},
   "outputs": [],
   "source": [
    "float.hex(f)"
   ]
  },
  {
   "cell_type": "code",
   "execution_count": null,
   "id": "66f797df",
   "metadata": {},
   "outputs": [],
   "source": [
    "float.as_integer_ratio(f)"
   ]
  },
  {
   "cell_type": "code",
   "execution_count": null,
   "id": "33fd36e9",
   "metadata": {},
   "outputs": [],
   "source": [
    "float.fromhex('0xc')"
   ]
  },
  {
   "cell_type": "markdown",
   "id": "2c6e21ad",
   "metadata": {},
   "source": [
    "### Integer"
   ]
  },
  {
   "cell_type": "code",
   "execution_count": null,
   "id": "5bbcd193",
   "metadata": {},
   "outputs": [],
   "source": [
    "t = int('123')"
   ]
  },
  {
   "cell_type": "code",
   "execution_count": null,
   "id": "94ba9c8b",
   "metadata": {},
   "outputs": [],
   "source": [
    "print(t,type(t))"
   ]
  },
  {
   "cell_type": "code",
   "execution_count": null,
   "id": "6819e21b",
   "metadata": {},
   "outputs": [],
   "source": [
    "t.numerator"
   ]
  },
  {
   "cell_type": "code",
   "execution_count": null,
   "id": "988ec559",
   "metadata": {},
   "outputs": [],
   "source": [
    "t.denominator"
   ]
  },
  {
   "cell_type": "code",
   "execution_count": null,
   "id": "3e568af9",
   "metadata": {},
   "outputs": [],
   "source": [
    "int.conjugate(t)"
   ]
  },
  {
   "cell_type": "code",
   "execution_count": null,
   "id": "96041e4d",
   "metadata": {},
   "outputs": [],
   "source": [
    "int('100',base=2)"
   ]
  },
  {
   "cell_type": "code",
   "execution_count": null,
   "id": "6d4c47d5",
   "metadata": {},
   "outputs": [],
   "source": [
    "int('454',base=8)"
   ]
  },
  {
   "cell_type": "code",
   "execution_count": null,
   "id": "f2126e36",
   "metadata": {},
   "outputs": [],
   "source": [
    "int('1A4',base=16)"
   ]
  },
  {
   "cell_type": "code",
   "execution_count": null,
   "id": "09527133",
   "metadata": {},
   "outputs": [],
   "source": [
    "# BuiltIn Base Constructors\n",
    "\n",
    "# bin\n",
    "# hex\n",
    "# oct"
   ]
  },
  {
   "cell_type": "code",
   "execution_count": null,
   "id": "b7436fe9",
   "metadata": {},
   "outputs": [],
   "source": [
    "bin(4)"
   ]
  },
  {
   "cell_type": "code",
   "execution_count": null,
   "id": "29d9382a",
   "metadata": {},
   "outputs": [],
   "source": [
    "hex(420)"
   ]
  },
  {
   "cell_type": "code",
   "execution_count": null,
   "id": "b71b9cc6",
   "metadata": {},
   "outputs": [],
   "source": [
    "oct(300)"
   ]
  },
  {
   "cell_type": "markdown",
   "id": "caaa9344",
   "metadata": {},
   "source": [
    "### Complex"
   ]
  },
  {
   "cell_type": "code",
   "execution_count": null,
   "id": "648ef06c",
   "metadata": {},
   "outputs": [],
   "source": [
    "c = complex(123)"
   ]
  },
  {
   "cell_type": "code",
   "execution_count": null,
   "id": "87a0ae04",
   "metadata": {},
   "outputs": [],
   "source": [
    "print(c,type(c))"
   ]
  },
  {
   "cell_type": "code",
   "execution_count": null,
   "id": "62470f6b",
   "metadata": {},
   "outputs": [],
   "source": [
    "c.conjugate()"
   ]
  },
  {
   "cell_type": "code",
   "execution_count": null,
   "id": "6bc4f549",
   "metadata": {},
   "outputs": [],
   "source": [
    "c.imag"
   ]
  },
  {
   "cell_type": "code",
   "execution_count": null,
   "id": "84f36c68",
   "metadata": {},
   "outputs": [],
   "source": [
    "c.real"
   ]
  },
  {
   "cell_type": "code",
   "execution_count": null,
   "id": "f0dd6ee9",
   "metadata": {},
   "outputs": [],
   "source": [
    "complex(5,12)"
   ]
  },
  {
   "cell_type": "code",
   "execution_count": null,
   "id": "7393a785",
   "metadata": {},
   "outputs": [],
   "source": [
    "complex(imag=12,real=5)"
   ]
  },
  {
   "cell_type": "markdown",
   "id": "f212bc09",
   "metadata": {},
   "source": [
    "### Range"
   ]
  },
  {
   "cell_type": "code",
   "execution_count": null,
   "id": "a4b4a548",
   "metadata": {},
   "outputs": [],
   "source": [
    "r = range(10)\n",
    "\n",
    "print(r)"
   ]
  },
  {
   "cell_type": "code",
   "execution_count": null,
   "id": "c0d5482b",
   "metadata": {},
   "outputs": [],
   "source": [
    "list(r)"
   ]
  },
  {
   "cell_type": "code",
   "execution_count": null,
   "id": "8543aac9",
   "metadata": {},
   "outputs": [],
   "source": [
    "r = range(4,10)\n",
    "\n",
    "print(r)"
   ]
  },
  {
   "cell_type": "code",
   "execution_count": null,
   "id": "b0a2ea46",
   "metadata": {},
   "outputs": [],
   "source": [
    "list(r)"
   ]
  },
  {
   "cell_type": "code",
   "execution_count": null,
   "id": "62fb7bfe",
   "metadata": {},
   "outputs": [],
   "source": [
    "r = range(1,11,2)\n",
    "\n",
    "print(r)"
   ]
  },
  {
   "cell_type": "code",
   "execution_count": null,
   "id": "767f7037",
   "metadata": {},
   "outputs": [],
   "source": [
    "list(r)"
   ]
  },
  {
   "cell_type": "markdown",
   "id": "aacffe17",
   "metadata": {},
   "source": [
    "#### Activity\n",
    "*Write a program to solve quadratic equation without using any library?*"
   ]
  },
  {
   "cell_type": "code",
   "execution_count": null,
   "id": "d1dd1363",
   "metadata": {},
   "outputs": [],
   "source": [
    "# Solution\n",
    "\n",
    "# a = int(input('Enter value of a: '))\n",
    "# b = int(input('Enter value of b: '))\n",
    "# c = int(input('Enter value of c: '))\n",
    "\n",
    "# x1 = (-b+(((b**2)-(4*a*c))**0.5))/(2*a)\n",
    "# x2 = (-b-(((b**2)-(4*a*c))**0.5))/(2*a)\n",
    "\n",
    "# print('x1 =',x1)\n",
    "# print('x2 =',x2)"
   ]
  },
  {
   "cell_type": "markdown",
   "id": "9d443e3a",
   "metadata": {},
   "source": [
    "## Boolean\n",
    "Boolean is the collection of statements having only two possible solutions."
   ]
  },
  {
   "cell_type": "code",
   "execution_count": null,
   "id": "6922296e",
   "metadata": {},
   "outputs": [],
   "source": [
    "# Default value of bool constructor is False\n",
    "\n",
    "bool()"
   ]
  },
  {
   "cell_type": "code",
   "execution_count": null,
   "id": "0d0b58bd",
   "metadata": {},
   "outputs": [],
   "source": [
    "# Any datatype can be converted to boolean by using bool constructor\n",
    "\n",
    "bool(123)"
   ]
  },
  {
   "cell_type": "code",
   "execution_count": null,
   "id": "32627db9",
   "metadata": {},
   "outputs": [],
   "source": [
    "bool('ABC')"
   ]
  },
  {
   "cell_type": "code",
   "execution_count": null,
   "id": "f072e747",
   "metadata": {},
   "outputs": [],
   "source": [
    "bool([1,2,3])"
   ]
  },
  {
   "cell_type": "code",
   "execution_count": null,
   "id": "87641caa",
   "metadata": {},
   "outputs": [],
   "source": [
    "# Lets guess\n",
    "\n",
    "# bool(tuple(list(int())))"
   ]
  },
  {
   "cell_type": "code",
   "execution_count": null,
   "id": "e3d7bc78",
   "metadata": {},
   "outputs": [],
   "source": [
    "# Solution\n",
    "\n",
    "bool(tuple(list(range(int()))))"
   ]
  },
  {
   "cell_type": "markdown",
   "id": "334bf6ce",
   "metadata": {},
   "source": [
    "## Strings\n",
    "Strings are collections of characters. It is the text based datatype."
   ]
  },
  {
   "cell_type": "markdown",
   "id": "4e3b5786",
   "metadata": {},
   "source": [
    "### Single and Double Quotes"
   ]
  },
  {
   "cell_type": "code",
   "execution_count": null,
   "id": "9491d4e7",
   "metadata": {},
   "outputs": [],
   "source": [
    "print('Ali is a good student')"
   ]
  },
  {
   "cell_type": "code",
   "execution_count": null,
   "id": "89535eff",
   "metadata": {},
   "outputs": [],
   "source": [
    "print(\"Ahmed went to market\")"
   ]
  },
  {
   "cell_type": "code",
   "execution_count": null,
   "id": "e47755fc",
   "metadata": {},
   "outputs": [],
   "source": [
    "print(\"Ahmed's ballpoint\")"
   ]
  },
  {
   "cell_type": "code",
   "execution_count": null,
   "id": "ad0c5465",
   "metadata": {},
   "outputs": [],
   "source": [
    "print('He said,\"Quaid-e-Azam is our leader.\"')"
   ]
  },
  {
   "cell_type": "code",
   "execution_count": null,
   "id": "888049f0",
   "metadata": {},
   "outputs": [],
   "source": [
    "# Strings are collection of chars\n",
    "\n",
    "s = 'Hello Farzam!'\n",
    "s[6:12]"
   ]
  },
  {
   "cell_type": "code",
   "execution_count": null,
   "id": "4a24e043",
   "metadata": {},
   "outputs": [],
   "source": [
    "# s[3]='n'"
   ]
  },
  {
   "cell_type": "markdown",
   "id": "1d709a38",
   "metadata": {},
   "source": [
    "### Multiline/Doc Strings"
   ]
  },
  {
   "cell_type": "code",
   "execution_count": null,
   "id": "166019e2",
   "metadata": {},
   "outputs": [],
   "source": [
    "print(\"\"\"\n",
    "Ali is a good student.\n",
    "He goes to school daily.\n",
    "\n",
    "\"\"\")"
   ]
  },
  {
   "cell_type": "code",
   "execution_count": null,
   "id": "be2f9056",
   "metadata": {},
   "outputs": [],
   "source": [
    "print(\n",
    "    '''\n",
    "    Ahmed's mother said,\"Learn something from your friend\".\n",
    "    He was really upset.\n",
    "    '''\n",
    ")"
   ]
  },
  {
   "cell_type": "code",
   "execution_count": null,
   "id": "1683202b",
   "metadata": {},
   "outputs": [],
   "source": [
    "s = 'sTrIng is string'"
   ]
  },
  {
   "cell_type": "code",
   "execution_count": null,
   "id": "5e7d50b1",
   "metadata": {},
   "outputs": [],
   "source": [
    "print(s, type(s))"
   ]
  },
  {
   "cell_type": "markdown",
   "id": "1b0d3d7d",
   "metadata": {},
   "source": [
    "### String Operators"
   ]
  },
  {
   "cell_type": "code",
   "execution_count": null,
   "id": "a20b900c",
   "metadata": {},
   "outputs": [],
   "source": [
    "'Hello'+' '+'Ali'"
   ]
  },
  {
   "cell_type": "code",
   "execution_count": null,
   "id": "f54c0880",
   "metadata": {},
   "outputs": [],
   "source": [
    "'a' * 100"
   ]
  },
  {
   "cell_type": "markdown",
   "id": "35a59bd4",
   "metadata": {},
   "source": [
    "### String Types"
   ]
  },
  {
   "cell_type": "code",
   "execution_count": null,
   "id": "a40c3603",
   "metadata": {},
   "outputs": [],
   "source": [
    "# raw strings\n",
    "\n",
    "raw = r'W\\sal'"
   ]
  },
  {
   "cell_type": "code",
   "execution_count": null,
   "id": "d44e442c",
   "metadata": {},
   "outputs": [],
   "source": [
    "raw"
   ]
  },
  {
   "cell_type": "code",
   "execution_count": null,
   "id": "9bf609e9",
   "metadata": {},
   "outputs": [],
   "source": [
    "print(raw)"
   ]
  },
  {
   "cell_type": "code",
   "execution_count": null,
   "id": "5c588e27",
   "metadata": {},
   "outputs": [],
   "source": [
    "# format string\n",
    "\n",
    "name = input('Enter name: ')\n",
    "\n",
    "f'Hello {name}'"
   ]
  },
  {
   "cell_type": "code",
   "execution_count": null,
   "id": "71b780af",
   "metadata": {},
   "outputs": [],
   "source": [
    "# binary string\n",
    "\n",
    "b'10111'"
   ]
  },
  {
   "cell_type": "markdown",
   "id": "d011e82b",
   "metadata": {},
   "source": [
    "### BuiltIn Methods"
   ]
  },
  {
   "cell_type": "code",
   "execution_count": null,
   "id": "e892f2cb",
   "metadata": {},
   "outputs": [],
   "source": [
    "s.capitalize()"
   ]
  },
  {
   "cell_type": "code",
   "execution_count": null,
   "id": "451e040b",
   "metadata": {},
   "outputs": [],
   "source": [
    "s"
   ]
  },
  {
   "cell_type": "code",
   "execution_count": null,
   "id": "36710260",
   "metadata": {},
   "outputs": [],
   "source": [
    "s.count('n')"
   ]
  },
  {
   "cell_type": "code",
   "execution_count": null,
   "id": "b41c8d90",
   "metadata": {},
   "outputs": [],
   "source": [
    "s.upper()"
   ]
  },
  {
   "cell_type": "code",
   "execution_count": null,
   "id": "aaf02757",
   "metadata": {
    "scrolled": true
   },
   "outputs": [],
   "source": [
    "s.lower()"
   ]
  },
  {
   "cell_type": "code",
   "execution_count": null,
   "id": "2b9cd018",
   "metadata": {},
   "outputs": [],
   "source": [
    "s.endswith('g')"
   ]
  },
  {
   "cell_type": "code",
   "execution_count": null,
   "id": "4e8e5345",
   "metadata": {},
   "outputs": [],
   "source": [
    "s.startswith('sT')"
   ]
  },
  {
   "cell_type": "code",
   "execution_count": null,
   "id": "19dba931",
   "metadata": {},
   "outputs": [],
   "source": [
    "s.find('s',3,12)"
   ]
  },
  {
   "cell_type": "code",
   "execution_count": null,
   "id": "7f0179a9",
   "metadata": {},
   "outputs": [],
   "source": [
    "s.index('s')"
   ]
  },
  {
   "cell_type": "code",
   "execution_count": null,
   "id": "7e0c5627",
   "metadata": {},
   "outputs": [],
   "source": [
    "s.isalnum()"
   ]
  },
  {
   "cell_type": "code",
   "execution_count": null,
   "id": "28ef419c",
   "metadata": {},
   "outputs": [],
   "source": [
    "s.isalpha()"
   ]
  },
  {
   "cell_type": "code",
   "execution_count": null,
   "id": "abb920dd",
   "metadata": {},
   "outputs": [],
   "source": [
    "s.isdecimal()"
   ]
  },
  {
   "cell_type": "code",
   "execution_count": null,
   "id": "994b5a08",
   "metadata": {},
   "outputs": [],
   "source": [
    "s.isdigit()"
   ]
  },
  {
   "cell_type": "code",
   "execution_count": null,
   "id": "e4ba2747",
   "metadata": {},
   "outputs": [],
   "source": [
    "s.isidentifier()"
   ]
  },
  {
   "cell_type": "code",
   "execution_count": null,
   "id": "e022f71f",
   "metadata": {},
   "outputs": [],
   "source": [
    "s.islower()"
   ]
  },
  {
   "cell_type": "code",
   "execution_count": null,
   "id": "4fbf8f53",
   "metadata": {},
   "outputs": [],
   "source": [
    "s.isspace()"
   ]
  },
  {
   "cell_type": "code",
   "execution_count": null,
   "id": "bc94fde5",
   "metadata": {},
   "outputs": [],
   "source": [
    "s.isupper()"
   ]
  },
  {
   "cell_type": "code",
   "execution_count": null,
   "id": "60f2f95b",
   "metadata": {},
   "outputs": [],
   "source": [
    "s.istitle()"
   ]
  },
  {
   "cell_type": "code",
   "execution_count": null,
   "id": "01d4cdea",
   "metadata": {},
   "outputs": [],
   "source": [
    "s.isprintable()"
   ]
  },
  {
   "cell_type": "code",
   "execution_count": null,
   "id": "61284c83",
   "metadata": {},
   "outputs": [],
   "source": [
    "s = ' d '"
   ]
  },
  {
   "cell_type": "code",
   "execution_count": null,
   "id": "c7bbfef4",
   "metadata": {},
   "outputs": [],
   "source": [
    "s.strip()"
   ]
  },
  {
   "cell_type": "code",
   "execution_count": null,
   "id": "f1d342ad",
   "metadata": {},
   "outputs": [],
   "source": [
    "s.replace('n','N')"
   ]
  },
  {
   "cell_type": "code",
   "execution_count": null,
   "id": "971a789f",
   "metadata": {},
   "outputs": [],
   "source": [
    "s.split()"
   ]
  },
  {
   "cell_type": "code",
   "execution_count": null,
   "id": "d477858a",
   "metadata": {},
   "outputs": [],
   "source": [
    "'-'.join(['1','3','6','7','8'])"
   ]
  },
  {
   "cell_type": "code",
   "execution_count": null,
   "id": "244b28f8",
   "metadata": {},
   "outputs": [],
   "source": [
    "s.swapcase()"
   ]
  },
  {
   "cell_type": "code",
   "execution_count": null,
   "id": "658396fd",
   "metadata": {},
   "outputs": [],
   "source": [
    "name"
   ]
  },
  {
   "cell_type": "code",
   "execution_count": null,
   "id": "635fc6e2",
   "metadata": {},
   "outputs": [],
   "source": [
    "\"{name} is a {person}. {pronoun} is a {profession}.\".format(name=name,person='boy',pronoun='He',profession='student')"
   ]
  },
  {
   "cell_type": "markdown",
   "id": "6922c0f3",
   "metadata": {},
   "source": [
    "# Structural Datatypes"
   ]
  },
  {
   "cell_type": "markdown",
   "id": "131ac375",
   "metadata": {},
   "source": [
    "## List\n",
    "\n",
    "Array like object for storing multiple data\n",
    "\n",
    "<img src=\"./OneDrive/Pictures/pile.jpg\" alt=\"Blueprint\" width=\"350px\"/>"
   ]
  },
  {
   "cell_type": "code",
   "execution_count": null,
   "id": "92a46a6b",
   "metadata": {},
   "outputs": [],
   "source": [
    "a = [1,2,3,4,5]\n",
    "a"
   ]
  },
  {
   "cell_type": "code",
   "execution_count": null,
   "id": "8fe1a267",
   "metadata": {},
   "outputs": [],
   "source": [
    "print(a,type(a))"
   ]
  },
  {
   "cell_type": "code",
   "execution_count": null,
   "id": "f257eaf0",
   "metadata": {},
   "outputs": [],
   "source": [
    "a = [1,2,'A','B',12.65]"
   ]
  },
  {
   "cell_type": "code",
   "execution_count": null,
   "id": "54071597",
   "metadata": {},
   "outputs": [],
   "source": [
    "print(a,type(a))"
   ]
  },
  {
   "cell_type": "markdown",
   "id": "0e9d9f3d",
   "metadata": {},
   "source": [
    "### BuiltIn Methods"
   ]
  },
  {
   "cell_type": "code",
   "execution_count": null,
   "id": "22d4e2d0",
   "metadata": {},
   "outputs": [],
   "source": [
    "ls = [1,2,3,4,5]\n",
    "\n",
    "print(ls)"
   ]
  },
  {
   "cell_type": "code",
   "execution_count": null,
   "id": "3ed281b1",
   "metadata": {},
   "outputs": [],
   "source": [
    "ls.append(6)\n",
    "\n",
    "print(ls)"
   ]
  },
  {
   "cell_type": "code",
   "execution_count": null,
   "id": "08f5f89d",
   "metadata": {},
   "outputs": [],
   "source": [
    "ls.insert(0,0)\n",
    "\n",
    "print(ls)"
   ]
  },
  {
   "cell_type": "code",
   "execution_count": null,
   "id": "8184a406",
   "metadata": {},
   "outputs": [],
   "source": [
    "print(ls.pop())\n",
    "print(ls)"
   ]
  },
  {
   "cell_type": "code",
   "execution_count": null,
   "id": "e9861f5d",
   "metadata": {},
   "outputs": [],
   "source": [
    "ls.remove(2)\n",
    "\n",
    "print(ls)"
   ]
  },
  {
   "cell_type": "code",
   "execution_count": null,
   "id": "ded4122e",
   "metadata": {},
   "outputs": [],
   "source": [
    "a = [1,2,3]\n",
    "b = a"
   ]
  },
  {
   "cell_type": "code",
   "execution_count": null,
   "id": "da876c9d",
   "metadata": {},
   "outputs": [],
   "source": [
    "a is b"
   ]
  },
  {
   "cell_type": "code",
   "execution_count": null,
   "id": "0d58f9b1",
   "metadata": {},
   "outputs": [],
   "source": [
    "lst = ls.copy()\n",
    "\n",
    "print(lst)"
   ]
  },
  {
   "cell_type": "code",
   "execution_count": null,
   "id": "97a0d58c",
   "metadata": {},
   "outputs": [],
   "source": [
    "ls.clear()\n",
    "\n",
    "print(ls)"
   ]
  },
  {
   "cell_type": "code",
   "execution_count": null,
   "id": "76dda3d7",
   "metadata": {},
   "outputs": [],
   "source": [
    "lst.count(8)"
   ]
  },
  {
   "cell_type": "markdown",
   "id": "890cb97f",
   "metadata": {},
   "source": [
    "### Slicing"
   ]
  },
  {
   "cell_type": "code",
   "execution_count": null,
   "id": "c1e709ad",
   "metadata": {},
   "outputs": [],
   "source": [
    "lst= [1,2,3,4,5,6,7,8,9]"
   ]
  },
  {
   "cell_type": "code",
   "execution_count": null,
   "id": "7030301d",
   "metadata": {},
   "outputs": [],
   "source": [
    "lst[0:5]"
   ]
  },
  {
   "cell_type": "code",
   "execution_count": null,
   "id": "e3d95db2",
   "metadata": {},
   "outputs": [],
   "source": [
    "lst[:3]"
   ]
  },
  {
   "cell_type": "code",
   "execution_count": null,
   "id": "20adceec",
   "metadata": {},
   "outputs": [],
   "source": [
    "lst[4:]"
   ]
  },
  {
   "cell_type": "code",
   "execution_count": null,
   "id": "94200212",
   "metadata": {},
   "outputs": [],
   "source": [
    "lst[:]"
   ]
  },
  {
   "cell_type": "code",
   "execution_count": null,
   "id": "43643c02",
   "metadata": {},
   "outputs": [],
   "source": [
    "lst[-1]"
   ]
  },
  {
   "cell_type": "code",
   "execution_count": null,
   "id": "4b68cc95",
   "metadata": {},
   "outputs": [],
   "source": [
    "lst[-3:-1]"
   ]
  },
  {
   "cell_type": "code",
   "execution_count": null,
   "id": "f9ecd96c",
   "metadata": {},
   "outputs": [],
   "source": [
    "lst[::2]"
   ]
  },
  {
   "cell_type": "code",
   "execution_count": null,
   "id": "db165974",
   "metadata": {},
   "outputs": [],
   "source": [
    "# Lets guess\n",
    "\n",
    "# lst[1::2]"
   ]
  },
  {
   "cell_type": "code",
   "execution_count": null,
   "id": "f66b6ab0",
   "metadata": {},
   "outputs": [],
   "source": [
    "# Solution\n",
    "\n",
    "lst[1::2]"
   ]
  },
  {
   "cell_type": "markdown",
   "id": "1dda84e5",
   "metadata": {},
   "source": [
    "### Assignment"
   ]
  },
  {
   "cell_type": "code",
   "execution_count": null,
   "id": "b34dea43",
   "metadata": {},
   "outputs": [],
   "source": [
    "lst = [1,2,3,4,5,6,7,8,9,9]\n",
    "\n",
    "print(lst)"
   ]
  },
  {
   "cell_type": "code",
   "execution_count": null,
   "id": "b2793a1f",
   "metadata": {},
   "outputs": [],
   "source": [
    "lst[5] = 'E'"
   ]
  },
  {
   "cell_type": "code",
   "execution_count": null,
   "id": "7cca3daa",
   "metadata": {},
   "outputs": [],
   "source": [
    "lst"
   ]
  },
  {
   "cell_type": "code",
   "execution_count": null,
   "id": "ca83a549",
   "metadata": {},
   "outputs": [],
   "source": [
    "lst[0:3] = ['A','B','C']"
   ]
  },
  {
   "cell_type": "code",
   "execution_count": null,
   "id": "e6f8289a",
   "metadata": {},
   "outputs": [],
   "source": [
    "print(lst)"
   ]
  },
  {
   "cell_type": "markdown",
   "id": "fcbc969b",
   "metadata": {},
   "source": [
    "### Extending"
   ]
  },
  {
   "cell_type": "code",
   "execution_count": null,
   "id": "d840a98a",
   "metadata": {},
   "outputs": [],
   "source": [
    "lst1 = [1,2,3,4,5]\n",
    "\n",
    "print(lst1)"
   ]
  },
  {
   "cell_type": "code",
   "execution_count": null,
   "id": "c29fdc63",
   "metadata": {},
   "outputs": [],
   "source": [
    "lst2 = [5,6,7,8,9]\n",
    "\n",
    "print(lst2)"
   ]
  },
  {
   "cell_type": "code",
   "execution_count": null,
   "id": "f1a857cf",
   "metadata": {},
   "outputs": [],
   "source": [
    "for i in lst2:\n",
    "    lst1.append(i)\n",
    "    \n",
    "lst1"
   ]
  },
  {
   "cell_type": "code",
   "execution_count": null,
   "id": "32c8a25b",
   "metadata": {},
   "outputs": [],
   "source": [
    "lst1 = [1,2,3,4,5]\n",
    "\n",
    "print(lst1)"
   ]
  },
  {
   "cell_type": "code",
   "execution_count": null,
   "id": "bb1daca3",
   "metadata": {},
   "outputs": [],
   "source": [
    "lst1.extend(lst2)"
   ]
  },
  {
   "cell_type": "code",
   "execution_count": null,
   "id": "dc5b01ce",
   "metadata": {},
   "outputs": [],
   "source": [
    "lst1"
   ]
  },
  {
   "cell_type": "code",
   "execution_count": null,
   "id": "96fdcd8b",
   "metadata": {},
   "outputs": [],
   "source": [
    "lst1 = [1,2,3,4,5]\n",
    "\n",
    "print(lst1)"
   ]
  },
  {
   "cell_type": "code",
   "execution_count": null,
   "id": "8771ff08",
   "metadata": {},
   "outputs": [],
   "source": [
    "lst3 = lst1 + lst2\n",
    "\n",
    "lst3"
   ]
  },
  {
   "cell_type": "markdown",
   "id": "52662ce5",
   "metadata": {},
   "source": [
    "### Nested"
   ]
  },
  {
   "cell_type": "code",
   "execution_count": null,
   "id": "b94e9575",
   "metadata": {},
   "outputs": [],
   "source": [
    "[[1,2,3],[4,5,6]]"
   ]
  },
  {
   "cell_type": "code",
   "execution_count": null,
   "id": "12ac8b52",
   "metadata": {},
   "outputs": [],
   "source": [
    "lst = ['A','B','C',['D','E','F'],['G',['H','I',['J','K']]]]\n",
    "print(lst)"
   ]
  },
  {
   "cell_type": "code",
   "execution_count": null,
   "id": "00feedd1",
   "metadata": {},
   "outputs": [],
   "source": [
    "# Incremental Approach\n",
    "print(lst[4])\n",
    "print(lst[4][1])\n",
    "print(lst[4][1][2])\n",
    "print(lst[4][1][2][1])"
   ]
  },
  {
   "cell_type": "markdown",
   "id": "a73b6ac1",
   "metadata": {},
   "source": [
    "## Tuple\n",
    "\n",
    "Unmutable form of list"
   ]
  },
  {
   "cell_type": "code",
   "execution_count": null,
   "id": "61421e9d",
   "metadata": {},
   "outputs": [],
   "source": [
    "tup = (1,2,3,4,4,5,6,7,8,9,0)\n",
    "\n",
    "tup"
   ]
  },
  {
   "cell_type": "code",
   "execution_count": null,
   "id": "ade2b32b",
   "metadata": {},
   "outputs": [],
   "source": [
    "tup[6]"
   ]
  },
  {
   "cell_type": "code",
   "execution_count": null,
   "id": "e5312ba6",
   "metadata": {},
   "outputs": [],
   "source": [
    "tup[5] = 6"
   ]
  },
  {
   "cell_type": "markdown",
   "id": "828f2c1e",
   "metadata": {},
   "source": [
    "#### Activity\n",
    "\n",
    "*Write code to access **J** from the following*  \n",
    "t2 = ('A','B',['C','D','E','F'],('G',('H','I',('J','K'))))"
   ]
  },
  {
   "cell_type": "code",
   "execution_count": null,
   "id": "9a836150",
   "metadata": {},
   "outputs": [],
   "source": [
    "# Solution\n",
    "\n",
    "# t2 = ('A','B',['C','D','E','F'],('G','H',('I',('J','K'))))\n",
    "# t2[3][2][1][0]"
   ]
  },
  {
   "cell_type": "markdown",
   "id": "5f7a8f8f",
   "metadata": {},
   "source": [
    "### Updating"
   ]
  },
  {
   "cell_type": "code",
   "execution_count": null,
   "id": "a9c0b6a2",
   "metadata": {},
   "outputs": [],
   "source": [
    "tup = (1,2,3,4,4,5,6,7,8,9,0)\n",
    "\n",
    "tup"
   ]
  },
  {
   "cell_type": "code",
   "execution_count": null,
   "id": "3348d37e",
   "metadata": {},
   "outputs": [],
   "source": [
    "temp = list(tup)\n",
    "temp[4] = 'A'\n",
    "tup = tuple(temp)\n",
    "\n",
    "tup"
   ]
  },
  {
   "cell_type": "markdown",
   "id": "331de644",
   "metadata": {},
   "source": [
    "### BuiltIn Methods"
   ]
  },
  {
   "cell_type": "code",
   "execution_count": null,
   "id": "eea7e624",
   "metadata": {},
   "outputs": [],
   "source": [
    "tup.count(4)"
   ]
  },
  {
   "cell_type": "code",
   "execution_count": null,
   "id": "5fb11b8b",
   "metadata": {},
   "outputs": [],
   "source": [
    "tup.index(6)"
   ]
  },
  {
   "cell_type": "markdown",
   "id": "ff4fb9dd",
   "metadata": {},
   "source": [
    "### Packing"
   ]
  },
  {
   "cell_type": "code",
   "execution_count": null,
   "id": "264654ed",
   "metadata": {},
   "outputs": [],
   "source": [
    "# Packing\n",
    "\n",
    "a=4\n",
    "b=5\n",
    "c=6\n",
    "\n",
    "z = a,b,c"
   ]
  },
  {
   "cell_type": "code",
   "execution_count": null,
   "id": "2c016864",
   "metadata": {},
   "outputs": [],
   "source": [
    "print(z, type(z))"
   ]
  },
  {
   "cell_type": "markdown",
   "id": "9df26ada",
   "metadata": {},
   "source": [
    "### Unpacking"
   ]
  },
  {
   "cell_type": "code",
   "execution_count": null,
   "id": "24b7c55e",
   "metadata": {},
   "outputs": [],
   "source": [
    "i, j, k = z"
   ]
  },
  {
   "cell_type": "code",
   "execution_count": null,
   "id": "aa99ebd1",
   "metadata": {},
   "outputs": [],
   "source": [
    "print(i,type(i))\n",
    "print(j,type(j))\n",
    "print(k,type(k))"
   ]
  },
  {
   "cell_type": "code",
   "execution_count": null,
   "id": "7344ca0f",
   "metadata": {},
   "outputs": [],
   "source": [
    "i,*k = z"
   ]
  },
  {
   "cell_type": "code",
   "execution_count": null,
   "id": "dfee5050",
   "metadata": {},
   "outputs": [],
   "source": [
    "k"
   ]
  },
  {
   "cell_type": "markdown",
   "id": "108c7c76",
   "metadata": {},
   "source": [
    "#### Activity\n",
    "\n",
    "*Write a program to swap the numbers using tuple?*"
   ]
  },
  {
   "cell_type": "code",
   "execution_count": null,
   "id": "ee1674e7",
   "metadata": {},
   "outputs": [],
   "source": [
    "# Solution\n",
    "\n",
    "# a = int(input('Enter A: '))\n",
    "# b = int(input('Enter B: '))\n",
    "\n",
    "# print('Before Swap:')\n",
    "# print('A:',a,'\\t','B:',b)\n",
    "\n",
    "# b,a = a,b\n",
    "\n",
    "# print('After Swap:')\n",
    "# print('A:',a,'\\t','B:',b)"
   ]
  },
  {
   "cell_type": "markdown",
   "id": "5f4f34ab",
   "metadata": {},
   "source": [
    "## Dictionary\n",
    "\n",
    "Key value pairs\n",
    "<img src=\"./OneDrive/Pictures/structure.png\" alt=\"Blueprint\" width=\"500px\"/>"
   ]
  },
  {
   "cell_type": "code",
   "execution_count": null,
   "id": "e6a307ca",
   "metadata": {},
   "outputs": [],
   "source": [
    "dc = {1:'A',2:'B','C':3,'D':4,'E':5,'F':6,'G':7,'H':8,'I':9}"
   ]
  },
  {
   "cell_type": "code",
   "execution_count": null,
   "id": "b6acc5f4",
   "metadata": {},
   "outputs": [],
   "source": [
    "dc"
   ]
  },
  {
   "cell_type": "code",
   "execution_count": null,
   "id": "a971da6e",
   "metadata": {},
   "outputs": [],
   "source": [
    "dc[9]"
   ]
  },
  {
   "cell_type": "code",
   "execution_count": null,
   "id": "8d2f6f05",
   "metadata": {},
   "outputs": [],
   "source": [
    "# Updating value\n",
    "\n",
    "dc['E'] = 54"
   ]
  },
  {
   "cell_type": "code",
   "execution_count": null,
   "id": "39b8b369",
   "metadata": {},
   "outputs": [],
   "source": [
    "dc"
   ]
  },
  {
   "cell_type": "code",
   "execution_count": null,
   "id": "101e38e5",
   "metadata": {},
   "outputs": [],
   "source": [
    "# Adding new value\n",
    "\n",
    "dc[5] = 'E'"
   ]
  },
  {
   "cell_type": "code",
   "execution_count": null,
   "id": "6270a87b",
   "metadata": {},
   "outputs": [],
   "source": [
    "dc"
   ]
  },
  {
   "cell_type": "markdown",
   "id": "cdc95aad",
   "metadata": {},
   "source": [
    "### BuiltIn Methods"
   ]
  },
  {
   "cell_type": "code",
   "execution_count": null,
   "id": "bdf04ae6",
   "metadata": {},
   "outputs": [],
   "source": [
    "dc.keys()"
   ]
  },
  {
   "cell_type": "code",
   "execution_count": null,
   "id": "0e6c7d78",
   "metadata": {},
   "outputs": [],
   "source": [
    "dc.values()"
   ]
  },
  {
   "cell_type": "code",
   "execution_count": null,
   "id": "ac4bb0cb",
   "metadata": {},
   "outputs": [],
   "source": [
    "dc.items()"
   ]
  },
  {
   "cell_type": "code",
   "execution_count": null,
   "id": "678e7865",
   "metadata": {},
   "outputs": [],
   "source": [
    "dc.copy()"
   ]
  },
  {
   "cell_type": "code",
   "execution_count": null,
   "id": "f8bdacf3",
   "metadata": {},
   "outputs": [],
   "source": [
    "dc.get(9)"
   ]
  },
  {
   "cell_type": "code",
   "execution_count": null,
   "id": "703fb345",
   "metadata": {},
   "outputs": [],
   "source": [
    "dc.get('8',8)"
   ]
  },
  {
   "cell_type": "markdown",
   "id": "38a8c942",
   "metadata": {},
   "source": [
    "### Nested"
   ]
  },
  {
   "cell_type": "code",
   "execution_count": null,
   "id": "49bce2ca",
   "metadata": {},
   "outputs": [],
   "source": [
    "d = dict(\n",
    "    class1 = {'A':1,'B':2,'C':3},\n",
    "    class2 = {'A':4,'B':5,'C':6},\n",
    "    class3 = {'A':7,'B':8,'C':9},\n",
    ")"
   ]
  },
  {
   "cell_type": "code",
   "execution_count": null,
   "id": "4e926a64",
   "metadata": {},
   "outputs": [],
   "source": [
    "print(d)"
   ]
  },
  {
   "cell_type": "code",
   "execution_count": null,
   "id": "8143a74d",
   "metadata": {},
   "outputs": [],
   "source": [
    "d['class3']['B']"
   ]
  },
  {
   "cell_type": "code",
   "execution_count": null,
   "id": "32e4c451",
   "metadata": {},
   "outputs": [],
   "source": [
    "{'class1': {'A':1,'B':2,'C':3},'class2': {'A':4,'B':5,'C':6},'class3': {'A':7,'B':8,'C':9}}"
   ]
  },
  {
   "cell_type": "code",
   "execution_count": null,
   "id": "38995b48",
   "metadata": {},
   "outputs": [],
   "source": [
    "print({'class1': {'A':1,'B':2,'C':3},'class2': {'A':4,'B':5,'C':6},'class3': {'A':7,'B':8,'C':9}})"
   ]
  },
  {
   "cell_type": "markdown",
   "id": "87d9513f",
   "metadata": {},
   "source": [
    "## Set\n",
    "\n",
    "List of unique values\n",
    "<img src=\"./OneDrive/Pictures/venn.png\" alt=\"Set\" width=\"300px\"/>"
   ]
  },
  {
   "cell_type": "code",
   "execution_count": null,
   "id": "046fdd50",
   "metadata": {},
   "outputs": [],
   "source": [
    "st = {1,2,3,3,3,3,5,6,4,8}\n",
    "st"
   ]
  },
  {
   "cell_type": "code",
   "execution_count": null,
   "id": "9770148a",
   "metadata": {
    "scrolled": true
   },
   "outputs": [],
   "source": [
    "st[0]"
   ]
  },
  {
   "cell_type": "markdown",
   "id": "3c10ed3f",
   "metadata": {},
   "source": [
    "### Access"
   ]
  },
  {
   "cell_type": "code",
   "execution_count": null,
   "id": "a60bce2c",
   "metadata": {},
   "outputs": [],
   "source": [
    "for i in st:\n",
    "    print(i)"
   ]
  },
  {
   "cell_type": "markdown",
   "id": "ce6d0dac",
   "metadata": {},
   "source": [
    "### BuiltIn Methods"
   ]
  },
  {
   "cell_type": "code",
   "execution_count": null,
   "id": "d0d97225",
   "metadata": {},
   "outputs": [],
   "source": [
    "st.add(12)\n",
    "\n",
    "st"
   ]
  },
  {
   "cell_type": "code",
   "execution_count": null,
   "id": "9ebd80d5",
   "metadata": {},
   "outputs": [],
   "source": [
    "st.remove(12)\n",
    "\n",
    "st"
   ]
  },
  {
   "cell_type": "code",
   "execution_count": null,
   "id": "750a8a42",
   "metadata": {},
   "outputs": [],
   "source": [
    "stt = {3,5}\n",
    "\n",
    "st.difference(stt)"
   ]
  },
  {
   "cell_type": "code",
   "execution_count": null,
   "id": "573c22bc",
   "metadata": {},
   "outputs": [],
   "source": [
    "st.union(stt)"
   ]
  },
  {
   "cell_type": "code",
   "execution_count": null,
   "id": "275cb618",
   "metadata": {},
   "outputs": [],
   "source": [
    "st.intersection(stt)"
   ]
  },
  {
   "cell_type": "markdown",
   "id": "fdf218fa",
   "metadata": {},
   "source": [
    "# Flow Control"
   ]
  },
  {
   "cell_type": "markdown",
   "id": "ca656e68",
   "metadata": {},
   "source": [
    "## Conditionals\n",
    "\n",
    "Conditional statements are used to break the sequence of execution on basis of decision\n",
    "<img src=\"./OneDrive/Pictures/conditional.jpeg\" alt=\"Set\" width=\"300px\"/>"
   ]
  },
  {
   "cell_type": "markdown",
   "id": "32d0b98f",
   "metadata": {},
   "source": [
    "### IF Statement"
   ]
  },
  {
   "cell_type": "code",
   "execution_count": null,
   "id": "8e42200d",
   "metadata": {},
   "outputs": [],
   "source": [
    "if True:\n",
    "    print(True)"
   ]
  },
  {
   "cell_type": "code",
   "execution_count": null,
   "id": "661391bd",
   "metadata": {},
   "outputs": [],
   "source": [
    "if 90 % 2 == 45:\n",
    "    print('90 is even number')"
   ]
  },
  {
   "cell_type": "markdown",
   "id": "66e4ac0c",
   "metadata": {},
   "source": [
    "### ELSE Statement"
   ]
  },
  {
   "cell_type": "code",
   "execution_count": null,
   "id": "9805e597",
   "metadata": {},
   "outputs": [],
   "source": [
    "if False:\n",
    "    print(True)\n",
    "else:\n",
    "    print(False)"
   ]
  },
  {
   "cell_type": "code",
   "execution_count": null,
   "id": "bfd6d94c",
   "metadata": {},
   "outputs": [],
   "source": [
    "if 'a' in 'Saturn':\n",
    "    print('a is present in Saturn')\n",
    "else:\n",
    "    print('a is not present in Saturn')"
   ]
  },
  {
   "cell_type": "markdown",
   "id": "19a56a6c",
   "metadata": {},
   "source": [
    "### ELIF Statement"
   ]
  },
  {
   "cell_type": "code",
   "execution_count": null,
   "id": "f0ffbbdf",
   "metadata": {},
   "outputs": [],
   "source": [
    "n=5\n",
    "\n",
    "if n%2 == 0:\n",
    "    print('Even')\n",
    "elif n%3 == 0:\n",
    "    print('Divisible by 3')\n",
    "else:\n",
    "    print('Neither even nor divisible by 3')"
   ]
  },
  {
   "cell_type": "code",
   "execution_count": null,
   "id": "7f1fbc28",
   "metadata": {},
   "outputs": [],
   "source": [
    "n=5\n",
    "\n",
    "if n%3 == 0:\n",
    "    print('Divisible by 3')\n",
    "elif n%5 == 0:\n",
    "    print('Divisible by 5')\n",
    "else:\n",
    "    print('Neither divisible by 3 nor divisible by 5')"
   ]
  },
  {
   "cell_type": "code",
   "execution_count": null,
   "id": "ac08fc1c",
   "metadata": {},
   "outputs": [],
   "source": [
    "# Lets guess\n",
    "\n",
    "# n=6\n",
    "# if n%2 == 0:\n",
    "#     print('Even')\n",
    "# elif n%3 == 0:\n",
    "#     print('Divisible by 3')\n",
    "# else:\n",
    "#     print('Neither even nor divisible by 3')"
   ]
  },
  {
   "cell_type": "code",
   "execution_count": null,
   "id": "7d59ce59",
   "metadata": {},
   "outputs": [],
   "source": [
    "# Solution\n",
    "\n",
    "n=6\n",
    "if n%2 == 0:\n",
    "    print('Even')\n",
    "elif n%3 == 0:\n",
    "    print('Divisible by 3')\n",
    "else:\n",
    "    print('Neither even nor divisible by 3')"
   ]
  },
  {
   "cell_type": "markdown",
   "id": "a2566d70",
   "metadata": {},
   "source": [
    "### Nested"
   ]
  },
  {
   "cell_type": "code",
   "execution_count": null,
   "id": "b9ba397b",
   "metadata": {},
   "outputs": [],
   "source": [
    "n=12\n",
    "\n",
    "if n%3==0:\n",
    "    print('Divisible by 3')\n",
    "    if n%5==0:\n",
    "        print('Divisible by 3 and 5')\n",
    "    else:\n",
    "        print('Divisible by 3 but not divisible by 5')\n",
    "else:\n",
    "    print('Not divisible by 3')"
   ]
  },
  {
   "cell_type": "code",
   "execution_count": null,
   "id": "35cfad65",
   "metadata": {},
   "outputs": [],
   "source": [
    "if n%3==0 and n%5==0:\n",
    "    print('Divisible by 3 and 5')\n",
    "else:\n",
    "    print('Not divisible by 3 and 5')"
   ]
  },
  {
   "cell_type": "code",
   "execution_count": null,
   "id": "6e7ca8cb",
   "metadata": {},
   "outputs": [],
   "source": [
    "# Lets guess what will be printed\n",
    "\n",
    "# if True:\n",
    "#     print('*',end='\\t')\n",
    "#     if False:\n",
    "#         print('#',end='\\t')\n",
    "#         if True:\n",
    "#             print('!',end='\\t')\n",
    "#         else:\n",
    "#             print('&',end='\\t')\n",
    "#     else:\n",
    "#         print('^',end='\\t')\n",
    "# else:\n",
    "#     print('%',end='\\t')"
   ]
  },
  {
   "cell_type": "code",
   "execution_count": null,
   "id": "9eb19504",
   "metadata": {},
   "outputs": [],
   "source": [
    "# Solution\n",
    "\n",
    "if True:\n",
    "    print('*',end='\\t')\n",
    "    if False:\n",
    "        print('#',end='\\t')\n",
    "        if True:\n",
    "            print('!',end='\\t')\n",
    "        else:\n",
    "            print('&',end='\\t')\n",
    "    else:\n",
    "        print('^',end='\\t')\n",
    "else:\n",
    "    print('%',end='\\t')"
   ]
  },
  {
   "cell_type": "markdown",
   "id": "8d47979b",
   "metadata": {},
   "source": [
    "#### Activity\n",
    "\n",
    "*Write the program for grading the student on taking marks from user?*  \n",
    "*A* --> 80 - 100  \n",
    "*B* --> 60 - 80  \n",
    "*C* --> 40 - 60  \n",
    "*D* --> 10 - 40  \n",
    "*F* --> 00 - 10"
   ]
  },
  {
   "cell_type": "code",
   "execution_count": null,
   "id": "3124ca85",
   "metadata": {},
   "outputs": [],
   "source": [
    "# Solution\n",
    "\n",
    "marks = int(input('Enter marks: '))\n",
    "if marks > 80 and marks <= 100:\n",
    "    print('A')\n",
    "elif marks > 60 and marks <= 80:\n",
    "    print('B')\n",
    "elif marks > 40 and marks <= 60:\n",
    "    print('C')\n",
    "elif marks > 10 and marks <= 40:\n",
    "    print('D')\n",
    "elif marks > 0 or marks <= 10:\n",
    "    print('F')\n",
    "else:\n",
    "    print('Invalid marks')"
   ]
  },
  {
   "cell_type": "markdown",
   "id": "1f7176f3",
   "metadata": {},
   "source": [
    "## Loops\n",
    "\n",
    "Loops break the sequence and repeat specific lines repeatedly\n",
    "<img src=\"./OneDrive/Pictures/circular.jpg\" alt=\"Set\" width=\"200px\"/>"
   ]
  },
  {
   "cell_type": "markdown",
   "id": "43c721bf",
   "metadata": {},
   "source": [
    "### FOR Loop"
   ]
  },
  {
   "cell_type": "code",
   "execution_count": null,
   "id": "6505c2a5",
   "metadata": {},
   "outputs": [],
   "source": [
    "lst = ['Apple','Banana','Melon','Kiwi','Strawberry','Orange']\n",
    "\n",
    "print(lst)"
   ]
  },
  {
   "cell_type": "code",
   "execution_count": null,
   "id": "9ef3bed9",
   "metadata": {},
   "outputs": [],
   "source": [
    "for fruit in lst:\n",
    "    print(fruit, end=' ')"
   ]
  },
  {
   "cell_type": "code",
   "execution_count": null,
   "id": "7f07f587",
   "metadata": {},
   "outputs": [],
   "source": [
    "for i in range(20):\n",
    "    print(i,end=' ')"
   ]
  },
  {
   "cell_type": "code",
   "execution_count": null,
   "id": "456c8e56",
   "metadata": {},
   "outputs": [],
   "source": [
    "# Lets guess\n",
    "\n",
    "# lst = '1,2,3,4,5,6,7,8,9'.split(',')\n",
    "# for n in lst:\n",
    "#     print(int(n),int(n)**2,int(n)**3,sep='\\t',end='\\n')"
   ]
  },
  {
   "cell_type": "code",
   "execution_count": null,
   "id": "ed06a1f8",
   "metadata": {},
   "outputs": [],
   "source": [
    "# Solution\n",
    "\n",
    "lst = '1 2 3 4 5 6 7 8 9'.split()\n",
    "\n",
    "for n in lst:\n",
    "    print(int(n),int(n)**2,int(n)**3,sep='\\t',end='\\n')"
   ]
  },
  {
   "cell_type": "markdown",
   "id": "071a443b",
   "metadata": {},
   "source": [
    "#### Activity\n",
    "\n",
    "*Write a program for alphabet counter?*"
   ]
  },
  {
   "cell_type": "code",
   "execution_count": null,
   "id": "24481c0e",
   "metadata": {},
   "outputs": [],
   "source": [
    "# Solution\n",
    "\n",
    "# st = input('Enter the string: ')\n",
    "# d = dict()\n",
    "# for i in st:\n",
    "#     if d.get(i,None) is None:\n",
    "#         d[i] = 1\n",
    "#     else:\n",
    "#         d[i] += 1\n",
    "# print(d)"
   ]
  },
  {
   "cell_type": "markdown",
   "id": "c0ab7dd2",
   "metadata": {},
   "source": [
    "### WHILE Loop"
   ]
  },
  {
   "cell_type": "code",
   "execution_count": null,
   "id": "e02ab15d",
   "metadata": {},
   "outputs": [],
   "source": [
    "n = 100\n",
    "while n>0:\n",
    "    if n%2==0:\n",
    "        print(n,end='\\t')\n",
    "    n-=1"
   ]
  },
  {
   "cell_type": "code",
   "execution_count": null,
   "id": "ca55b2d8",
   "metadata": {},
   "outputs": [],
   "source": [
    "n = 0\n",
    "while True:\n",
    "    print(n,end='-')\n",
    "    if n%3==0:\n",
    "        if n%5==0:\n",
    "            break\n",
    "        continue"
   ]
  },
  {
   "cell_type": "markdown",
   "id": "30a47ced",
   "metadata": {},
   "source": [
    "#### Activity\n",
    "\n",
    "*Write the program to generate acronyms from the string?*"
   ]
  },
  {
   "cell_type": "code",
   "execution_count": null,
   "id": "2b1df580",
   "metadata": {},
   "outputs": [],
   "source": [
    "# Solution\n",
    "\n",
    "# st = input('Enter the string: ')\n",
    "# for e in st.split():\n",
    "#     print(e[0],end='')"
   ]
  },
  {
   "cell_type": "markdown",
   "id": "00b550bb",
   "metadata": {},
   "source": [
    "### Nested"
   ]
  },
  {
   "cell_type": "code",
   "execution_count": null,
   "id": "323a907b",
   "metadata": {},
   "outputs": [],
   "source": [
    "n=5\n",
    "i=0\n",
    "while i<=n:\n",
    "    for x in range(i):\n",
    "        print('*',end='')\n",
    "    print()\n",
    "    i+=1"
   ]
  },
  {
   "cell_type": "markdown",
   "id": "403fd653",
   "metadata": {},
   "source": [
    "#### Activity\n",
    "*Write a program to find prime numbers between user defined intervals?*"
   ]
  },
  {
   "cell_type": "code",
   "execution_count": null,
   "id": "4b877d5e",
   "metadata": {},
   "outputs": [],
   "source": [
    "# Solution\n",
    "\n",
    "u = int(input('Enter upper limit: '))\n",
    "l = int(input('Enter lower limit: '))\n",
    "while l <= u:\n",
    "    i = 2\n",
    "    isPrime = True\n",
    "    while i < l/2:\n",
    "        if l%i == 0:\n",
    "            isPrime = False\n",
    "            break\n",
    "        i += 1\n",
    "    if isPrime:\n",
    "        print(l,'is a prime number')\n",
    "    l += 1\n",
    "    \n",
    "    \n",
    "    \n",
    "# 6 -> 1,2,3,6\n",
    "# 1*6\n",
    "# 2*3\n",
    "\n",
    "# 3*2\n",
    "# 6*1"
   ]
  },
  {
   "cell_type": "markdown",
   "id": "eec2fd5f",
   "metadata": {},
   "source": [
    "# One Liners"
   ]
  },
  {
   "cell_type": "code",
   "execution_count": null,
   "id": "a6c0fd55",
   "metadata": {},
   "outputs": [],
   "source": [
    "a,b,c = 1,2,3"
   ]
  },
  {
   "cell_type": "code",
   "execution_count": null,
   "id": "3188d5a3",
   "metadata": {},
   "outputs": [],
   "source": [
    "print(a,b,c)"
   ]
  },
  {
   "cell_type": "code",
   "execution_count": null,
   "id": "c995c014",
   "metadata": {},
   "outputs": [],
   "source": [
    "a,b,*c = 1,2,3,4,5,6,7,8,9"
   ]
  },
  {
   "cell_type": "code",
   "execution_count": null,
   "id": "5aef1dc9",
   "metadata": {},
   "outputs": [],
   "source": [
    "print(a,b,c)"
   ]
  },
  {
   "cell_type": "code",
   "execution_count": null,
   "id": "fab7fdfd",
   "metadata": {},
   "outputs": [],
   "source": [
    "()"
   ]
  },
  {
   "cell_type": "code",
   "execution_count": null,
   "id": "2d8918f5",
   "metadata": {},
   "outputs": [],
   "source": [
    "# s = set()\n",
    "# {x**2 for x in range(10) if x%2 == 0}\n",
    "#         s.add(x**2)\n",
    "        \n",
    "\n",
    "\n",
    "\n",
    "evenSquaredSet = {x**2 for x in range(10) if x%2==0}"
   ]
  },
  {
   "cell_type": "code",
   "execution_count": null,
   "id": "3838cc65",
   "metadata": {},
   "outputs": [],
   "source": [
    "print(evenSquaredSet)"
   ]
  },
  {
   "cell_type": "markdown",
   "id": "a64a38a4",
   "metadata": {},
   "source": [
    "## List Comprehension"
   ]
  },
  {
   "cell_type": "code",
   "execution_count": null,
   "id": "9abd879a",
   "metadata": {},
   "outputs": [],
   "source": [
    "name = input('Enter  your name: ')\n",
    "\n",
    "# chars = list()\n",
    "# chars=[a for a in name.upper() if a!='A']\n",
    "#     if a != 'A':\n",
    "#         chars.append(a)\n",
    "\n",
    "# chars = [a for a in name.upper()]\n",
    "\n",
    "chars = [a for a in name.upper() if a != 'A']\n",
    "print(chars)"
   ]
  },
  {
   "cell_type": "code",
   "execution_count": null,
   "id": "aa7fe634",
   "metadata": {},
   "outputs": [],
   "source": [
    "evens = (n for n in range(0,40) if n%2==0)\n",
    "print(tuple(evens))"
   ]
  },
  {
   "cell_type": "markdown",
   "id": "197753dc",
   "metadata": {},
   "source": [
    "#### Activity\n",
    "*Write program to get initials of the names using list comprehension?*"
   ]
  },
  {
   "cell_type": "code",
   "execution_count": null,
   "id": "743a0d46",
   "metadata": {},
   "outputs": [],
   "source": [
    "# Solution\n",
    "\n",
    "# name = input('Enter complete name: ')\n",
    "# print(''.join([e[0] for e in name.upper().split()]))"
   ]
  },
  {
   "cell_type": "markdown",
   "id": "167b1b18",
   "metadata": {},
   "source": [
    "### Assignment Activity\n",
    "**Write a program to find LCM, HCF?**"
   ]
  },
  {
   "cell_type": "markdown",
   "id": "d54aa552",
   "metadata": {},
   "source": [
    "# Functions\n",
    "Functions define the relationship between the input and returning value"
   ]
  },
  {
   "cell_type": "markdown",
   "id": "7471d35b",
   "metadata": {},
   "source": [
    "## BuiltIn"
   ]
  },
  {
   "cell_type": "code",
   "execution_count": null,
   "id": "6d70a3ba",
   "metadata": {},
   "outputs": [],
   "source": [
    "def even(n:int):\n",
    "    return n%2==0"
   ]
  },
  {
   "cell_type": "code",
   "execution_count": null,
   "id": "90b5032b",
   "metadata": {},
   "outputs": [],
   "source": [
    "lst = [n for n in range(1,11)]\n",
    "# [1,2,3,4,5,6,7,8,9,10]\n",
    "\n",
    "list(map(float,lst))"
   ]
  },
  {
   "cell_type": "code",
   "execution_count": null,
   "id": "29666641",
   "metadata": {},
   "outputs": [],
   "source": [
    "lst = [n for n in range(1,11)]\n",
    "# [1,2,3,4,5,6,7,8,9,10]\n",
    "\n",
    "list(filter(even,lst))"
   ]
  },
  {
   "cell_type": "code",
   "execution_count": null,
   "id": "ade9d154",
   "metadata": {},
   "outputs": [],
   "source": [
    "lst1 = [1,2,3,4,5,6]\n",
    "lst2 = 'A B C D E'.split()\n",
    "\n",
    "list(zip(lst1,lst2))"
   ]
  },
  {
   "cell_type": "code",
   "execution_count": null,
   "id": "d30f54b2",
   "metadata": {},
   "outputs": [],
   "source": [
    "lst = [14,87,45,20,85,58,98,26,64,36,19,86]\n",
    "\n",
    "# lst.sort()\n",
    "print(sorted(lst))"
   ]
  },
  {
   "cell_type": "code",
   "execution_count": null,
   "id": "aa345d29",
   "metadata": {},
   "outputs": [],
   "source": [
    "min(lst)"
   ]
  },
  {
   "cell_type": "code",
   "execution_count": null,
   "id": "e18a4c63",
   "metadata": {},
   "outputs": [],
   "source": [
    "max(lst)"
   ]
  },
  {
   "cell_type": "code",
   "execution_count": null,
   "id": "8294aac9",
   "metadata": {},
   "outputs": [],
   "source": [
    "sum(lst)"
   ]
  },
  {
   "cell_type": "code",
   "execution_count": null,
   "id": "bd3bfb59",
   "metadata": {},
   "outputs": [],
   "source": [
    "len(lst)"
   ]
  },
  {
   "cell_type": "code",
   "execution_count": null,
   "id": "1de5f66c",
   "metadata": {},
   "outputs": [],
   "source": [
    "round(20/3,ndigits=5)"
   ]
  },
  {
   "cell_type": "code",
   "execution_count": null,
   "id": "7a8af61e",
   "metadata": {},
   "outputs": [],
   "source": [
    "l1 =  list(map(lambda x:x>5,lst))\n",
    "\n",
    "print(l1)\n",
    "\n",
    "print(all(l1))"
   ]
  },
  {
   "cell_type": "code",
   "execution_count": null,
   "id": "82f82e53",
   "metadata": {},
   "outputs": [],
   "source": [
    "l1 =  list(map(lambda x:x>5,lst))\n",
    "\n",
    "l1.append(False)\n",
    "print(l1)\n",
    "\n",
    "print(all(l1))"
   ]
  },
  {
   "cell_type": "code",
   "execution_count": null,
   "id": "923c3ee2",
   "metadata": {},
   "outputs": [],
   "source": [
    "any(list(map(lambda x:x>5,lst)))"
   ]
  },
  {
   "cell_type": "code",
   "execution_count": null,
   "id": "c6e6a8e5",
   "metadata": {},
   "outputs": [],
   "source": [
    "l1 =  list(map(lambda x:x>5,lst))\n",
    "\n",
    "l1.append(False)\n",
    "print(l1)\n",
    "\n",
    "print(any(l1))"
   ]
  },
  {
   "cell_type": "code",
   "execution_count": null,
   "id": "49538004",
   "metadata": {},
   "outputs": [],
   "source": [
    "# ASCII to Character\n",
    "\n",
    "chr(65)"
   ]
  },
  {
   "cell_type": "code",
   "execution_count": null,
   "id": "b2973f06",
   "metadata": {},
   "outputs": [],
   "source": [
    "# Character to ASCII\n",
    "\n",
    "ord('a')"
   ]
  },
  {
   "cell_type": "markdown",
   "id": "5c3906ad",
   "metadata": {},
   "source": [
    "## User Defined"
   ]
  },
  {
   "cell_type": "code",
   "execution_count": null,
   "id": "b5074722",
   "metadata": {},
   "outputs": [],
   "source": [
    "def sqr(n):\n",
    "    return n**2"
   ]
  },
  {
   "cell_type": "code",
   "execution_count": null,
   "id": "ee7bbf03",
   "metadata": {},
   "outputs": [],
   "source": [
    "print(sqr(3))"
   ]
  },
  {
   "cell_type": "code",
   "execution_count": null,
   "id": "04c1aa4a",
   "metadata": {},
   "outputs": [],
   "source": [
    "def even(n:int):\n",
    "    return n%2==0"
   ]
  },
  {
   "cell_type": "code",
   "execution_count": null,
   "id": "9506b748",
   "metadata": {},
   "outputs": [],
   "source": [
    "even(346)"
   ]
  },
  {
   "cell_type": "code",
   "execution_count": null,
   "id": "8be5e7c2",
   "metadata": {},
   "outputs": [],
   "source": [
    "def sqrt(n=1):\n",
    "    return n**0.5"
   ]
  },
  {
   "cell_type": "code",
   "execution_count": null,
   "id": "df02b49c",
   "metadata": {},
   "outputs": [],
   "source": [
    "sqrt(256)"
   ]
  },
  {
   "cell_type": "code",
   "execution_count": null,
   "id": "1befe2ec",
   "metadata": {},
   "outputs": [],
   "source": [
    "def cube(n:int=1):\n",
    "    return n**3"
   ]
  },
  {
   "cell_type": "code",
   "execution_count": null,
   "id": "4a69654e",
   "metadata": {},
   "outputs": [],
   "source": [
    "cube(7)"
   ]
  },
  {
   "cell_type": "code",
   "execution_count": null,
   "id": "fd870d19",
   "metadata": {},
   "outputs": [],
   "source": [
    "cube()"
   ]
  },
  {
   "cell_type": "markdown",
   "id": "43e29c1c",
   "metadata": {},
   "source": [
    "### Scope"
   ]
  },
  {
   "cell_type": "code",
   "execution_count": null,
   "id": "fa98c9c8",
   "metadata": {},
   "outputs": [],
   "source": [
    "x = 5\n",
    "\n",
    "def func():\n",
    "    x = 5\n",
    "    print('Inside function before change: x=',x)\n",
    "    x=10\n",
    "    print('Inside function after change: x=',x)\n",
    "    return None\n",
    "\n",
    "\n",
    "print('Outside function: x=',x)\n",
    "func()\n",
    "print('Outside function: x=',x)\n"
   ]
  },
  {
   "cell_type": "code",
   "execution_count": null,
   "id": "c308750a",
   "metadata": {},
   "outputs": [],
   "source": [
    "x = 5\n",
    "\n",
    "def func():\n",
    "    global x\n",
    "    print('Inside function before change: x=',x)\n",
    "    x=10\n",
    "    print('Inside function after change: x=',x)\n",
    "    return None\n",
    "\n",
    "\n",
    "print('Outside function: x=',x)\n",
    "func()\n",
    "print('Outside function: x=',x)\n"
   ]
  },
  {
   "cell_type": "markdown",
   "id": "bfdd02ba",
   "metadata": {},
   "source": [
    "## Anonymous"
   ]
  },
  {
   "cell_type": "code",
   "execution_count": null,
   "id": "ab27194c",
   "metadata": {},
   "outputs": [],
   "source": [
    "twice = lambda x: x*2"
   ]
  },
  {
   "cell_type": "code",
   "execution_count": null,
   "id": "7ddc762d",
   "metadata": {},
   "outputs": [],
   "source": [
    "twice(50)"
   ]
  },
  {
   "cell_type": "code",
   "execution_count": null,
   "id": "534e3822",
   "metadata": {},
   "outputs": [],
   "source": [
    "# Anonymous functions are used with maps and filters\n",
    "\n",
    "lst = [n for n in range(1,11)]\n",
    "\n",
    "# [1,2,3,4,5,6,7,8,9,10]\n",
    "\n",
    "list(map(lambda x:x**2, lst))"
   ]
  },
  {
   "cell_type": "code",
   "execution_count": null,
   "id": "70a1d698",
   "metadata": {},
   "outputs": [],
   "source": [
    "lst = [n for n in range(1,11)]\n",
    "list(filter(lambda x:x%2==0, lst))"
   ]
  },
  {
   "cell_type": "markdown",
   "id": "f28ac3c6",
   "metadata": {},
   "source": [
    "### Recursion\n",
    "\n",
    "The property of repetition"
   ]
  },
  {
   "cell_type": "code",
   "execution_count": null,
   "id": "a1b7f47e",
   "metadata": {},
   "outputs": [],
   "source": [
    "def chk5(num):\n",
    "    if num > 5:\n",
    "        return num\n",
    "    print(num)\n",
    "    num+=1\n",
    "    return chk5(num)"
   ]
  },
  {
   "cell_type": "code",
   "execution_count": null,
   "id": "62897ee5",
   "metadata": {},
   "outputs": [],
   "source": [
    "chk5(3)"
   ]
  },
  {
   "cell_type": "markdown",
   "id": "7c33f6de",
   "metadata": {},
   "source": [
    "### Assignment Activity\n",
    "**Write programs for Fibonacci and Factorial?**"
   ]
  },
  {
   "cell_type": "markdown",
   "id": "1ba9f117",
   "metadata": {},
   "source": [
    "# Object Orientation"
   ]
  },
  {
   "cell_type": "markdown",
   "id": "5eae7049",
   "metadata": {},
   "source": [
    "## Class\n",
    "\n",
    "Class is the blueprint of anything just similar to blueprint of any object.\n",
    "\n",
    "<img src=\"./OneDrive/Pictures/blueprint.jpg\" alt=\"Blueprint\" width=\"500px\"/>"
   ]
  },
  {
   "cell_type": "code",
   "execution_count": null,
   "id": "f7869ba2",
   "metadata": {},
   "outputs": [],
   "source": [
    "class Person:\n",
    "    name='Farzam'\n",
    "    address='Leiah'\n",
    "    identity=12345\n",
    "    mobileNumber=12345654321\n",
    "    age=21\n",
    "    height=\"5'1\""
   ]
  },
  {
   "cell_type": "markdown",
   "id": "2e063541",
   "metadata": {},
   "source": [
    "### Object\n",
    "\n",
    "Object is the interpretation of that blue print"
   ]
  },
  {
   "cell_type": "code",
   "execution_count": null,
   "id": "19ef3a80",
   "metadata": {},
   "outputs": [],
   "source": [
    "person1 = Person()"
   ]
  },
  {
   "cell_type": "code",
   "execution_count": null,
   "id": "3f5e6b62",
   "metadata": {},
   "outputs": [],
   "source": [
    "person1.address"
   ]
  },
  {
   "cell_type": "code",
   "execution_count": null,
   "id": "ff3d9082",
   "metadata": {},
   "outputs": [],
   "source": [
    "person1.identity"
   ]
  },
  {
   "cell_type": "code",
   "execution_count": null,
   "id": "1fd910b4",
   "metadata": {},
   "outputs": [],
   "source": [
    "type(person1)"
   ]
  },
  {
   "cell_type": "code",
   "execution_count": null,
   "id": "b9c06a24",
   "metadata": {},
   "outputs": [],
   "source": [
    "person1.name"
   ]
  },
  {
   "cell_type": "code",
   "execution_count": null,
   "id": "ecb9bdb1",
   "metadata": {},
   "outputs": [],
   "source": [
    "# Problem is I cannot change the details for other object\n",
    "\n",
    "person2 = Person()"
   ]
  },
  {
   "cell_type": "code",
   "execution_count": null,
   "id": "6f4720d8",
   "metadata": {},
   "outputs": [],
   "source": [
    "person2.name"
   ]
  },
  {
   "cell_type": "code",
   "execution_count": null,
   "id": "950f3fe6",
   "metadata": {},
   "outputs": [],
   "source": [
    "del(person2)"
   ]
  },
  {
   "cell_type": "markdown",
   "id": "a9a2b0ed",
   "metadata": {},
   "source": [
    "### Class Constructor\n",
    "\n",
    "Constructor is called when the class object is formed."
   ]
  },
  {
   "cell_type": "code",
   "execution_count": null,
   "id": "e1d7c8b3",
   "metadata": {},
   "outputs": [],
   "source": [
    "class Person:\n",
    "    def __init__(self,name,address,identity,mobile):\n",
    "        self.name=name\n",
    "        self.address=address\n",
    "        self.identity=identity\n",
    "        self.mobileNumber=mobile"
   ]
  },
  {
   "cell_type": "code",
   "execution_count": null,
   "id": "74f9985b",
   "metadata": {},
   "outputs": [],
   "source": [
    "person1 = Person('Farzam','Leiah',874,12345654321)"
   ]
  },
  {
   "cell_type": "code",
   "execution_count": null,
   "id": "e4e4ca83",
   "metadata": {},
   "outputs": [],
   "source": [
    "person1.name"
   ]
  },
  {
   "cell_type": "code",
   "execution_count": null,
   "id": "acc42e4d",
   "metadata": {},
   "outputs": [],
   "source": [
    "person2 = Person('Faizan','Lahore',434,92345654321)"
   ]
  },
  {
   "cell_type": "code",
   "execution_count": null,
   "id": "8defc935",
   "metadata": {},
   "outputs": [],
   "source": [
    "person2.name"
   ]
  },
  {
   "cell_type": "code",
   "execution_count": null,
   "id": "079e8074",
   "metadata": {},
   "outputs": [],
   "source": [
    "# Alternative Way\n",
    "\n",
    "person3 = Person(address='Pindi',name='Aqsa',mobile=34215654321,identity=294)"
   ]
  },
  {
   "cell_type": "code",
   "execution_count": null,
   "id": "437dfdfb",
   "metadata": {},
   "outputs": [],
   "source": [
    "person3.name"
   ]
  },
  {
   "cell_type": "markdown",
   "id": "2b896927",
   "metadata": {},
   "source": [
    "### Class Methods\n",
    "\n",
    "The functions inside/bounded by the class are methods"
   ]
  },
  {
   "cell_type": "code",
   "execution_count": null,
   "id": "a7afd1b6",
   "metadata": {},
   "outputs": [],
   "source": [
    "class Animal:\n",
    "    def __init__(self,tail:int=1,hasEar:bool=True):\n",
    "        self.legs = 4\n",
    "        self.tail = tail\n",
    "        self.hasEars = hasEar\n",
    "        \n",
    "    def speak(self,voice:str='aaa ',times:int=2):\n",
    "        print(voice * times)\n",
    "        return None\n",
    "    \n",
    "    def move(self,direction:str,steps:int=1):\n",
    "        print(f'moved {steps} step in {direction} direction...')\n",
    "        return None"
   ]
  },
  {
   "cell_type": "code",
   "execution_count": null,
   "id": "820a02ba",
   "metadata": {},
   "outputs": [],
   "source": [
    "animal = Animal()"
   ]
  },
  {
   "cell_type": "code",
   "execution_count": null,
   "id": "ef443e44",
   "metadata": {},
   "outputs": [],
   "source": [
    "animal.tail"
   ]
  },
  {
   "cell_type": "code",
   "execution_count": null,
   "id": "6750833c",
   "metadata": {},
   "outputs": [],
   "source": [
    "print(animal)"
   ]
  },
  {
   "cell_type": "code",
   "execution_count": null,
   "id": "8216384e",
   "metadata": {},
   "outputs": [],
   "source": [
    "animal.move('east')"
   ]
  },
  {
   "cell_type": "code",
   "execution_count": null,
   "id": "c6cc5c4d",
   "metadata": {
    "scrolled": true
   },
   "outputs": [],
   "source": [
    "animal.speak()"
   ]
  },
  {
   "cell_type": "code",
   "execution_count": null,
   "id": "cd847e89",
   "metadata": {},
   "outputs": [],
   "source": [
    "del(animal)"
   ]
  },
  {
   "cell_type": "markdown",
   "id": "3a29beef",
   "metadata": {},
   "source": [
    "### Dunder Methods\n",
    "\n",
    "Dunder methods are the builtin ___\\_\\_methodname\\_\\____ methods. They are also called magic methods"
   ]
  },
  {
   "cell_type": "code",
   "execution_count": null,
   "id": "82b2183f",
   "metadata": {},
   "outputs": [],
   "source": [
    "class Animal:\n",
    "    def __init__(self,tail:int=1,hasEar:bool=True):\n",
    "        print('Object created')\n",
    "        self.legs = 4\n",
    "        self.tail = tail\n",
    "        self.hasEars = hasEar\n",
    "        \n",
    "    def __str__(self):\n",
    "        return f'Animal object with {self.tail} tail(s)'\n",
    "    \n",
    "    def __del__(self):\n",
    "        print('Object deleted')\n",
    "        \n",
    "    def __len__(self):\n",
    "        return 3\n",
    "    \n",
    "    def __call__(self):\n",
    "        return 'Instance call'\n",
    "    \n",
    "    def __add__(self,elem):\n",
    "        self.elem = elem\n",
    "        return 'elem included'"
   ]
  },
  {
   "cell_type": "code",
   "execution_count": null,
   "id": "02fb78c4",
   "metadata": {},
   "outputs": [],
   "source": [
    "animal = Animal()"
   ]
  },
  {
   "cell_type": "code",
   "execution_count": null,
   "id": "b61752fd",
   "metadata": {},
   "outputs": [],
   "source": [
    "print(animal)"
   ]
  },
  {
   "cell_type": "code",
   "execution_count": null,
   "id": "e82a121a",
   "metadata": {},
   "outputs": [],
   "source": [
    "len(animal)"
   ]
  },
  {
   "cell_type": "code",
   "execution_count": null,
   "id": "6e6b29d9",
   "metadata": {},
   "outputs": [],
   "source": [
    "animal+'ast'"
   ]
  },
  {
   "cell_type": "code",
   "execution_count": null,
   "id": "72e10873",
   "metadata": {},
   "outputs": [],
   "source": [
    "animal()"
   ]
  },
  {
   "cell_type": "code",
   "execution_count": null,
   "id": "bebe6cf2",
   "metadata": {},
   "outputs": [],
   "source": [
    "del(animal)"
   ]
  },
  {
   "cell_type": "markdown",
   "id": "1cdb27ef",
   "metadata": {},
   "source": [
    "### Class Inheritance\n",
    "\n",
    "Inheritance is property of getting features from parent"
   ]
  },
  {
   "cell_type": "markdown",
   "id": "43ba559b",
   "metadata": {},
   "source": [
    "#### Single Parent Single Level"
   ]
  },
  {
   "cell_type": "code",
   "execution_count": null,
   "id": "f37935a1",
   "metadata": {},
   "outputs": [],
   "source": [
    "class Animal:\n",
    "    def __init__(self,leg:int=4,tail:int=1,hasEar:bool=True):\n",
    "        self.legs = leg\n",
    "        self.tail = tail\n",
    "        self.hasEars = hasEar\n",
    "        \n",
    "    def move(self,direction:str,steps:int=1):\n",
    "        print(f'moved {steps} step in {direction} direction...')\n",
    "        return None"
   ]
  },
  {
   "cell_type": "code",
   "execution_count": null,
   "id": "06e623a1",
   "metadata": {},
   "outputs": [],
   "source": [
    "class Dog(Animal):\n",
    "    def __init__(self,leg:int=4,tail:int=1,hasEar:bool=True,feature=None):\n",
    "        super().__init__(leg,tail,hasEar)\n",
    "        self.feature = feature\n",
    "    \n",
    "    def speak(self,times:int=1):\n",
    "        print('woof '*times)\n",
    "        return None"
   ]
  },
  {
   "cell_type": "code",
   "execution_count": null,
   "id": "0f006572",
   "metadata": {},
   "outputs": [],
   "source": [
    "animal1 = Dog()"
   ]
  },
  {
   "cell_type": "code",
   "execution_count": null,
   "id": "708293f0",
   "metadata": {},
   "outputs": [],
   "source": [
    "animal1.speak(2)"
   ]
  },
  {
   "cell_type": "markdown",
   "id": "7caee867",
   "metadata": {},
   "source": [
    "#### Single Parent Multi Level"
   ]
  },
  {
   "cell_type": "code",
   "execution_count": null,
   "id": "1532ac3e",
   "metadata": {},
   "outputs": [],
   "source": [
    "class GermanShephard(Dog):\n",
    "    def __init__(self,leg:int=4,tail:int=1,hasEar:bool=True,feature=None,color:str='Brown'):\n",
    "        super().__init__(leg,tail,hasEar,feature)\n",
    "        self.color = color\n",
    "        \n",
    "    def eat(self,item:str='Dog Feed'):\n",
    "        print(f'Eating {item}...')\n",
    "        return None"
   ]
  },
  {
   "cell_type": "code",
   "execution_count": null,
   "id": "8bb7d0ea",
   "metadata": {},
   "outputs": [],
   "source": [
    "pet = GermanShephard()"
   ]
  },
  {
   "cell_type": "code",
   "execution_count": null,
   "id": "0816005c",
   "metadata": {},
   "outputs": [],
   "source": [
    "pet.move('east')"
   ]
  },
  {
   "cell_type": "code",
   "execution_count": null,
   "id": "59c83b42",
   "metadata": {},
   "outputs": [],
   "source": [
    "pet.eat()"
   ]
  },
  {
   "cell_type": "markdown",
   "id": "f16313c5",
   "metadata": {},
   "source": [
    "#### Multi Parent Single Level"
   ]
  },
  {
   "cell_type": "code",
   "execution_count": null,
   "id": "2d479ee5",
   "metadata": {},
   "outputs": [],
   "source": [
    "class Reptile:\n",
    "    def __init__(self,canSwipe:bool=True):\n",
    "        self.canSwipe = canSwipe\n",
    "        \n",
    "    def dwindle(self):\n",
    "        print('zig zag zig')\n",
    "        "
   ]
  },
  {
   "cell_type": "code",
   "execution_count": null,
   "id": "7b16eb53",
   "metadata": {},
   "outputs": [],
   "source": [
    "class Snake(Animal,Reptile):\n",
    "    def __init__(self,leg:int=0,tail:int=1,hasEar:bool=False,canSwipe:bool=True):\n",
    "        Animal.__init__(self,leg=leg,tail=tail,hasEar=hasEar)\n",
    "        Reptile.__init__(self,canSwipe=canSwipe)\n",
    "        \n",
    "    def speak(self, times:int=1):\n",
    "        print('sss '*times)\n",
    "        return None"
   ]
  },
  {
   "cell_type": "code",
   "execution_count": null,
   "id": "20a16758",
   "metadata": {},
   "outputs": [],
   "source": [
    "rept = Snake()"
   ]
  },
  {
   "cell_type": "code",
   "execution_count": null,
   "id": "51c3df81",
   "metadata": {},
   "outputs": [],
   "source": [
    "rept.speak(2)"
   ]
  },
  {
   "cell_type": "code",
   "execution_count": null,
   "id": "254fb8a1",
   "metadata": {},
   "outputs": [],
   "source": [
    "rept.legs"
   ]
  },
  {
   "cell_type": "code",
   "execution_count": null,
   "id": "d1d19150",
   "metadata": {},
   "outputs": [],
   "source": [
    "rept.dwindle()"
   ]
  },
  {
   "cell_type": "code",
   "execution_count": null,
   "id": "37a01e81",
   "metadata": {},
   "outputs": [],
   "source": [
    "rept.canSwipe"
   ]
  },
  {
   "cell_type": "markdown",
   "id": "3172adca",
   "metadata": {},
   "source": [
    "#### Multi Parent Multi Level"
   ]
  },
  {
   "cell_type": "code",
   "execution_count": null,
   "id": "f5f02af6",
   "metadata": {},
   "outputs": [],
   "source": [
    "class Cobra(Snake):\n",
    "    def __init__(self,leg:int=0,tail:int=1,hasEar:bool=False,canSwipe:bool=True,color:str='Black'):\n",
    "        super().__init__(leg,tail,hasEar,canSwipe)\n",
    "        self.color = color\n",
    "        \n",
    "    def eat(self, item:str='Snake Food'):\n",
    "        print(f'Eating {item}..')\n",
    "        return None"
   ]
  },
  {
   "cell_type": "code",
   "execution_count": null,
   "id": "0f16a84c",
   "metadata": {},
   "outputs": [],
   "source": [
    "rep = Cobra()"
   ]
  },
  {
   "cell_type": "code",
   "execution_count": null,
   "id": "bc66df8b",
   "metadata": {},
   "outputs": [],
   "source": [
    "rep.dwindle()"
   ]
  },
  {
   "cell_type": "code",
   "execution_count": null,
   "id": "863d054b",
   "metadata": {},
   "outputs": [],
   "source": [
    "rep.move('east')"
   ]
  },
  {
   "cell_type": "code",
   "execution_count": null,
   "id": "4bc4cc60",
   "metadata": {},
   "outputs": [],
   "source": [
    "rep.eat()"
   ]
  },
  {
   "cell_type": "markdown",
   "id": "59dd7ac2",
   "metadata": {},
   "source": [
    "### Class Encapsulation\n",
    "\n",
    "Encapsulation is the property to hide irrelevant information."
   ]
  },
  {
   "cell_type": "code",
   "execution_count": null,
   "id": "f195195c",
   "metadata": {},
   "outputs": [],
   "source": [
    "class Person:\n",
    "    def __init__(self, name:str, identity:'str', number:int):\n",
    "        self.name =  name\n",
    "        self.__identity = identity\n",
    "        self._number = number\n",
    "        \n",
    "    def getIdentity(self):\n",
    "        return self.__identity\n",
    "    \n",
    "    def setIdentity(self,identity:str):\n",
    "        self.__identity = identity\n",
    "        return None\n",
    "    \n",
    "    def getNumber(self):\n",
    "        return self._number\n",
    "    \n",
    "    def setNumber(self,number:int):\n",
    "        self._number = number\n",
    "        return None"
   ]
  },
  {
   "cell_type": "code",
   "execution_count": null,
   "id": "4c913137",
   "metadata": {},
   "outputs": [],
   "source": [
    "adam = Person(name='Adam',identity='32103-1234567-0',number=923134235671)"
   ]
  },
  {
   "cell_type": "code",
   "execution_count": null,
   "id": "f4a327f5",
   "metadata": {},
   "outputs": [],
   "source": [
    "adam.name"
   ]
  },
  {
   "cell_type": "code",
   "execution_count": null,
   "id": "7ddb8390",
   "metadata": {},
   "outputs": [],
   "source": [
    "adam.identity"
   ]
  },
  {
   "cell_type": "code",
   "execution_count": null,
   "id": "546871f3",
   "metadata": {},
   "outputs": [],
   "source": [
    "adam.__identity"
   ]
  },
  {
   "cell_type": "code",
   "execution_count": null,
   "id": "d39ac057",
   "metadata": {},
   "outputs": [],
   "source": [
    "adam.getIdentity()"
   ]
  },
  {
   "cell_type": "markdown",
   "id": "c798ece7",
   "metadata": {},
   "source": [
    "### Class Abstraction\n",
    "\n",
    "Abstraction is property of class to hide the data from user"
   ]
  },
  {
   "cell_type": "code",
   "execution_count": null,
   "id": "c763c512",
   "metadata": {},
   "outputs": [],
   "source": [
    "class Person:\n",
    "    def __init__(self,name,identity,number):\n",
    "        self.name = name\n",
    "        self._identity = identity\n",
    "        self._number = number\n",
    "        \n",
    "    def speak(self):\n",
    "        pass\n",
    "    \n",
    "    def eat(self):\n",
    "        pass"
   ]
  },
  {
   "cell_type": "code",
   "execution_count": null,
   "id": "c5df093a",
   "metadata": {},
   "outputs": [],
   "source": [
    "class Employee(Person):\n",
    "    def __init__(self,name,identity,number,empNumber):\n",
    "        super().__init__(name,identity,number)\n",
    "        self.__employeeNumber = empNumber\n",
    "        \n",
    "    def speak(self):\n",
    "        return f'Hello Sir! I am {self.name}'\n",
    "    \n",
    "    def getEmployeeNumber(self,identity):\n",
    "        if identity == self._identity:\n",
    "            return f'My employee number is {self.__employeeNumber}'\n",
    "        return 'Please enter valid identity.'\n",
    "    \n",
    "    def eat(self):\n",
    "        return 'I am eating food...'"
   ]
  },
  {
   "cell_type": "code",
   "execution_count": null,
   "id": "f046bd61",
   "metadata": {},
   "outputs": [],
   "source": [
    "adam = Employee(name='Adam',identity='32103-1234567-0',number=923134235671,empNumber=3245)"
   ]
  },
  {
   "cell_type": "code",
   "execution_count": null,
   "id": "0923c68b",
   "metadata": {},
   "outputs": [],
   "source": [
    "adam.name"
   ]
  },
  {
   "cell_type": "code",
   "execution_count": null,
   "id": "a9abed1b",
   "metadata": {},
   "outputs": [],
   "source": [
    "adam.numb('32103-1234567-0')"
   ]
  },
  {
   "cell_type": "code",
   "execution_count": null,
   "id": "9c802280",
   "metadata": {},
   "outputs": [],
   "source": [
    "adam.numb('32103-1234567-5')"
   ]
  },
  {
   "cell_type": "markdown",
   "id": "8de329cf",
   "metadata": {},
   "source": [
    "### Class Polymorphism\n",
    "\n",
    "Polymorphism is the property of having more than one shapes."
   ]
  },
  {
   "cell_type": "markdown",
   "id": "b49201f1",
   "metadata": {},
   "source": [
    "#### Method OverRiding"
   ]
  },
  {
   "cell_type": "code",
   "execution_count": null,
   "id": "47ee405d",
   "metadata": {},
   "outputs": [],
   "source": [
    "class Person:\n",
    "    def __init__(self,name,identity,number):\n",
    "        self.name = name\n",
    "        self._identity = identity\n",
    "        self._number = number\n",
    "        \n",
    "    def speak(self):\n",
    "        return 'Hi Buddy! How are you?'\n",
    "    \n",
    "    def eat(self):\n",
    "        return 'I am eating food..'"
   ]
  },
  {
   "cell_type": "code",
   "execution_count": null,
   "id": "5ad55951",
   "metadata": {},
   "outputs": [],
   "source": [
    "class Employee(Person):\n",
    "    def __init__(self,name,identity,number,empNumber):\n",
    "        super().__init__(name,identity,number)\n",
    "        self.__employeeNumber = empNumber\n",
    "        \n",
    "    def speak(self):\n",
    "        return f'Hello Sir! I am {self.name}'\n",
    "    \n",
    "    def numb(self,identity):\n",
    "        if identity == self._identity:\n",
    "            return f'My employee number is {self.__employeeNumber}'\n",
    "        return 'Please enter valid identity.'\n",
    "    \n",
    "#     def eat(self):\n",
    "#         return 'I am eating sauce with food..'"
   ]
  },
  {
   "cell_type": "code",
   "execution_count": null,
   "id": "c7e17f98",
   "metadata": {},
   "outputs": [],
   "source": [
    "adam = Employee(name='Adam',identity='32103-1234567-0',number=923134235671,empNumber=3245)"
   ]
  },
  {
   "cell_type": "code",
   "execution_count": null,
   "id": "71917a31",
   "metadata": {},
   "outputs": [],
   "source": [
    "adam.speak()"
   ]
  },
  {
   "cell_type": "code",
   "execution_count": null,
   "id": "7578de20",
   "metadata": {},
   "outputs": [],
   "source": [
    "adam.eat()"
   ]
  },
  {
   "cell_type": "markdown",
   "id": "3c0ac2ac",
   "metadata": {},
   "source": [
    "#### Method Overloading"
   ]
  },
  {
   "cell_type": "code",
   "execution_count": null,
   "id": "db794d91",
   "metadata": {},
   "outputs": [],
   "source": [
    "class Calculator:\n",
    "    def add(self, datatype, *args):\n",
    "        if datatype is int:\n",
    "            answer = 0\n",
    "        elif datatype is float:\n",
    "            answer =0.0\n",
    "        elif datatype is str:\n",
    "            answer =''\n",
    "\n",
    "        for x in args:\n",
    "            answer += x\n",
    "\n",
    "        return answer"
   ]
  },
  {
   "cell_type": "code",
   "execution_count": null,
   "id": "ef72570a",
   "metadata": {},
   "outputs": [],
   "source": [
    "cal = Calculator()"
   ]
  },
  {
   "cell_type": "code",
   "execution_count": null,
   "id": "91bff105",
   "metadata": {},
   "outputs": [],
   "source": [
    "cal.add(str,'Ali',' ','Hassan')"
   ]
  },
  {
   "cell_type": "code",
   "execution_count": null,
   "id": "285003e4",
   "metadata": {},
   "outputs": [],
   "source": [
    "cal.add(int,12,12,12)"
   ]
  },
  {
   "cell_type": "markdown",
   "id": "b4309e31",
   "metadata": {},
   "source": [
    "# Exception Handling"
   ]
  },
  {
   "cell_type": "code",
   "execution_count": null,
   "id": "5b516c43",
   "metadata": {},
   "outputs": [],
   "source": [
    "n=5\n",
    "\n",
    "try:\n",
    "    x = n/0\n",
    "except ZeroDivisionError:\n",
    "    x = n/1\n",
    "print(x)"
   ]
  },
  {
   "cell_type": "code",
   "execution_count": null,
   "id": "911f152e",
   "metadata": {},
   "outputs": [],
   "source": [
    "n=6\n",
    "\n",
    "try:\n",
    "    f = n/i\n",
    "except NameError:\n",
    "    i=3\n",
    "    f = n/i\n",
    "except:\n",
    "    i=5\n",
    "    f = n/i\n",
    "finally:\n",
    "    print(f)"
   ]
  },
  {
   "cell_type": "code",
   "execution_count": null,
   "id": "f7026783",
   "metadata": {},
   "outputs": [],
   "source": [
    "try:\n",
    "    lst = [1,2,3,4,5]\n",
    "    for i in range(5):\n",
    "        print(lst[i])\n",
    "except IndexError:\n",
    "    print('Exception occured')\n",
    "else:\n",
    "    print('Try successful')\n",
    "finally:\n",
    "    print('Done')"
   ]
  },
  {
   "cell_type": "code",
   "execution_count": null,
   "id": "f0e4d64c",
   "metadata": {},
   "outputs": [],
   "source": [
    "try:\n",
    "    raise ConnectionError('No connection string found.')\n",
    "except:\n",
    "    print('Exception caught')"
   ]
  },
  {
   "cell_type": "markdown",
   "id": "dd477d57",
   "metadata": {},
   "source": [
    "#### Activity\n",
    "*Write program for word counter using exception handling?*"
   ]
  },
  {
   "cell_type": "code",
   "execution_count": null,
   "id": "8ee6418e",
   "metadata": {},
   "outputs": [],
   "source": [
    "# Solution\n",
    "\n",
    "# st = input('Enter the string: ')\n",
    "# d=dict()\n",
    "# for c in st:\n",
    "#     try:\n",
    "#         d[c] += 1\n",
    "#     except KeyError:\n",
    "#         d[c] = 1\n",
    "# print(d)"
   ]
  },
  {
   "cell_type": "markdown",
   "id": "3e6c6146",
   "metadata": {},
   "source": [
    "\n",
    "# File Handling"
   ]
  },
  {
   "cell_type": "markdown",
   "id": "290b9af8",
   "metadata": {},
   "source": [
    "## Basic Approach"
   ]
  },
  {
   "cell_type": "markdown",
   "id": "1257cdeb",
   "metadata": {},
   "source": [
    "### Writing File"
   ]
  },
  {
   "cell_type": "code",
   "execution_count": null,
   "id": "08c08423",
   "metadata": {},
   "outputs": [],
   "source": [
    "fw = open('File.txt','w')"
   ]
  },
  {
   "cell_type": "code",
   "execution_count": null,
   "id": "ea53b8da",
   "metadata": {},
   "outputs": [],
   "source": [
    "fw.write('Hello! My name is Farzam\\n')"
   ]
  },
  {
   "cell_type": "code",
   "execution_count": null,
   "id": "c58256f3",
   "metadata": {},
   "outputs": [],
   "source": [
    "lst = ['Amna','Aqsa','Alina','Saqib','Basit','Akhtar','Abid','Faizan','Fozan','Faheem','Parisa','Ahmed','Iqbal','Aslam','Islam']"
   ]
  },
  {
   "cell_type": "code",
   "execution_count": null,
   "id": "da7b4352",
   "metadata": {},
   "outputs": [],
   "source": [
    "len(lst)"
   ]
  },
  {
   "cell_type": "code",
   "execution_count": null,
   "id": "17da06f6",
   "metadata": {},
   "outputs": [],
   "source": [
    "for name in lst:\n",
    "    fw.writelines(f'Hi there! I am {name}.\\n')"
   ]
  },
  {
   "cell_type": "code",
   "execution_count": null,
   "id": "9ca52328",
   "metadata": {},
   "outputs": [],
   "source": [
    "fw.close()"
   ]
  },
  {
   "cell_type": "markdown",
   "id": "6b3b73c2",
   "metadata": {},
   "source": [
    "### Reading File"
   ]
  },
  {
   "cell_type": "code",
   "execution_count": null,
   "id": "5ff82b3e",
   "metadata": {},
   "outputs": [],
   "source": [
    "fr = open('File.txt','r')"
   ]
  },
  {
   "cell_type": "code",
   "execution_count": null,
   "id": "7db2ff72",
   "metadata": {},
   "outputs": [],
   "source": [
    "print(fr.read(89))"
   ]
  },
  {
   "cell_type": "code",
   "execution_count": null,
   "id": "d7e491ae",
   "metadata": {},
   "outputs": [],
   "source": [
    "print(fr.readline())"
   ]
  },
  {
   "cell_type": "code",
   "execution_count": null,
   "id": "02a13d85",
   "metadata": {},
   "outputs": [],
   "source": [
    "print(fr.readlines())"
   ]
  },
  {
   "cell_type": "code",
   "execution_count": null,
   "id": "34d6bdc6",
   "metadata": {},
   "outputs": [],
   "source": [
    "fr.close()"
   ]
  },
  {
   "cell_type": "markdown",
   "id": "a20e3d0e",
   "metadata": {},
   "source": [
    "### Appending File"
   ]
  },
  {
   "cell_type": "code",
   "execution_count": null,
   "id": "d7322bac",
   "metadata": {},
   "outputs": [],
   "source": [
    "fa = open('File.txt','a')"
   ]
  },
  {
   "cell_type": "code",
   "execution_count": null,
   "id": "c3a2b266",
   "metadata": {},
   "outputs": [],
   "source": [
    "fa.writelines('Hi Brother! How are you?\\n')"
   ]
  },
  {
   "cell_type": "code",
   "execution_count": null,
   "id": "257349c9",
   "metadata": {},
   "outputs": [],
   "source": [
    "fa.close()"
   ]
  },
  {
   "cell_type": "markdown",
   "id": "a3661c11",
   "metadata": {},
   "source": [
    "## Alternate Approach"
   ]
  },
  {
   "cell_type": "code",
   "execution_count": null,
   "id": "11818cf5",
   "metadata": {},
   "outputs": [],
   "source": [
    "read = None\n",
    "\n",
    "with open('File.txt','r') as fr:\n",
    "    read = fr.readlines()\n",
    "    fr.close()"
   ]
  },
  {
   "cell_type": "code",
   "execution_count": null,
   "id": "f6ada30a",
   "metadata": {},
   "outputs": [],
   "source": [
    "read"
   ]
  },
  {
   "cell_type": "markdown",
   "id": "8731a904",
   "metadata": {},
   "source": [
    "### Assignment Activity\n",
    "\n",
    "**Write the program for hangman game and save the results in file?**"
   ]
  },
  {
   "cell_type": "markdown",
   "id": "50a48aaa",
   "metadata": {},
   "source": [
    "# Decorator and Generator"
   ]
  },
  {
   "cell_type": "markdown",
   "id": "93b9374d",
   "metadata": {},
   "source": [
    "## Python Decorator\n",
    "\n",
    "Decorator is a design pattern that allows you to modify the functionality of a function by wrapping it in another function. They are used to decorate the functions."
   ]
  },
  {
   "cell_type": "code",
   "execution_count": null,
   "id": "5f939b62",
   "metadata": {},
   "outputs": [],
   "source": [
    "# Nested Functions\n",
    "\n",
    "# def func():\n",
    "#     pass\n",
    "\n",
    "# func()\n",
    "\n",
    "\n",
    "def outer():\n",
    "    def inner():\n",
    "        print('I am inner function')\n",
    "\n",
    "\n",
    "    print('I am outer function')\n",
    "    print('I am calling inner function')\n",
    "    inner()\n",
    "    print('I am outer again')\n",
    "    return None"
   ]
  },
  {
   "cell_type": "code",
   "execution_count": null,
   "id": "1c1e640e",
   "metadata": {},
   "outputs": [],
   "source": [
    "outer()"
   ]
  },
  {
   "cell_type": "code",
   "execution_count": null,
   "id": "22801f13",
   "metadata": {},
   "outputs": [],
   "source": [
    "# Decorators can hide the actual function into outside function\n",
    "\n",
    "def addx(x):\n",
    "    def addy(y):\n",
    "        return x+y\n",
    "        \n",
    "    return addy"
   ]
  },
  {
   "cell_type": "code",
   "execution_count": null,
   "id": "1d1e0134",
   "metadata": {},
   "outputs": [],
   "source": [
    "add5 = addx(5)\n",
    "res = add5(6)\n",
    "\n",
    "res"
   ]
  },
  {
   "cell_type": "code",
   "execution_count": null,
   "id": "f0d9d9d9",
   "metadata": {},
   "outputs": [],
   "source": [
    "# Decorators can take function as argument\n",
    "\n",
    "def decorate(func,x,y):\n",
    "    print('I am decorator')\n",
    "    return func(x,y)\n",
    "\n",
    "def add(x,y):\n",
    "    print('I am function')\n",
    "    return x+y"
   ]
  },
  {
   "cell_type": "code",
   "execution_count": null,
   "id": "832e9177",
   "metadata": {},
   "outputs": [],
   "source": [
    "decorate(add,5,7)"
   ]
  },
  {
   "cell_type": "code",
   "execution_count": null,
   "id": "6200edc7",
   "metadata": {},
   "outputs": [],
   "source": [
    "# Decorator syntax\n",
    "\n",
    "def decorator(func):\n",
    "    print('I am decorator function')\n",
    "    def inner():\n",
    "        print('I am inner decorator function')\n",
    "        func()\n",
    "    return inner\n",
    "\n",
    "\n",
    "@decorator\n",
    "def myfunc():\n",
    "    print('I am ordinary function')"
   ]
  },
  {
   "cell_type": "code",
   "execution_count": null,
   "id": "3531ad41",
   "metadata": {},
   "outputs": [],
   "source": [
    "# @decorator is equivalent to myfunc=decorator(myfunc)\n",
    "myfunc()\n",
    "\n",
    "\n",
    "# decorator(myfunc)()"
   ]
  },
  {
   "cell_type": "code",
   "execution_count": null,
   "id": "0955b335",
   "metadata": {},
   "outputs": [],
   "source": [
    "def divisionRule(func):\n",
    "    def inner(a,b):\n",
    "        if b == 0:\n",
    "            print('Division not possible')\n",
    "            return None\n",
    "        return func(a,b)\n",
    "\n",
    "    return inner\n",
    "\n",
    "@divisionRule\n",
    "def divide(a,b):\n",
    "    return a/b"
   ]
  },
  {
   "cell_type": "code",
   "execution_count": null,
   "id": "b8fbaf77",
   "metadata": {},
   "outputs": [],
   "source": [
    "type(divisionRule)"
   ]
  },
  {
   "cell_type": "code",
   "execution_count": null,
   "id": "d7f50130",
   "metadata": {},
   "outputs": [],
   "source": [
    "divide(6,0)"
   ]
  },
  {
   "cell_type": "code",
   "execution_count": null,
   "id": "29e47ea1",
   "metadata": {},
   "outputs": [],
   "source": [
    "divide(6,3)"
   ]
  },
  {
   "cell_type": "markdown",
   "id": "10811924",
   "metadata": {},
   "source": [
    "## Python Generator\n",
    "\n",
    "Generator is a function that returns an iterator that produces a sequence of values."
   ]
  },
  {
   "cell_type": "code",
   "execution_count": null,
   "id": "a287a59a",
   "metadata": {},
   "outputs": [],
   "source": [
    "# range(n)\n",
    "\n",
    "def genRange(n):\n",
    "    value = 0\n",
    "    while value < n:\n",
    "        yield value\n",
    "        value += 1\n",
    "        \n",
    "        \n",
    "# genRange(10) ## [0 1 2 3 4 5 6 7 8 9 NULL]"
   ]
  },
  {
   "cell_type": "code",
   "execution_count": null,
   "id": "29992e1e",
   "metadata": {},
   "outputs": [],
   "source": [
    "for i in genRange(5):\n",
    "    print(i)"
   ]
  },
  {
   "cell_type": "code",
   "execution_count": null,
   "id": "bd39a7a3",
   "metadata": {},
   "outputs": [],
   "source": [
    "def oddRange(n):\n",
    "    value = 1\n",
    "    while value < n:\n",
    "        yield value\n",
    "        value += 2"
   ]
  },
  {
   "cell_type": "code",
   "execution_count": null,
   "id": "f083fb38",
   "metadata": {},
   "outputs": [],
   "source": [
    "seq = oddRange(20)"
   ]
  },
  {
   "cell_type": "code",
   "execution_count": null,
   "id": "559d8129",
   "metadata": {},
   "outputs": [],
   "source": [
    "print(seq,type(seq))"
   ]
  },
  {
   "cell_type": "code",
   "execution_count": null,
   "id": "07aed0dd",
   "metadata": {},
   "outputs": [],
   "source": [
    "next(seq)"
   ]
  },
  {
   "cell_type": "code",
   "execution_count": null,
   "id": "52f10b8b",
   "metadata": {},
   "outputs": [],
   "source": [
    "for i in seq:\n",
    "    print(i)"
   ]
  },
  {
   "cell_type": "markdown",
   "id": "71002dac",
   "metadata": {},
   "source": [
    "<h1 style=\"font-size:100px; text-align:center;\"> Thank You</h1>"
   ]
  }
 ],
 "metadata": {
  "kernelspec": {
   "display_name": "Python 3 (ipykernel)",
   "language": "python",
   "name": "python3"
  },
  "language_info": {
   "codemirror_mode": {
    "name": "ipython",
    "version": 3
   },
   "file_extension": ".py",
   "mimetype": "text/x-python",
   "name": "python",
   "nbconvert_exporter": "python",
   "pygments_lexer": "ipython3",
   "version": "3.11.1"
  },
  "vscode": {
   "interpreter": {
    "hash": "b56823d3876598670abc3c928caf922b2cd543b5f48e0e8d37838563168168a5"
   }
  }
 },
 "nbformat": 4,
 "nbformat_minor": 5
}
